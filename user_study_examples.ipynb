{
 "cells": [
  {
   "cell_type": "code",
   "execution_count": 527,
   "metadata": {},
   "outputs": [],
   "source": [
    "import os\n",
    "import traceback\n",
    "\n",
    "import pandas as pd\n",
    "from certa.explain import CertaExplainer\n",
    "from certa.local_explain import get_original_prediction, get_row\n",
    "from certa.utils import merge_sources\n",
    "\n",
    "from baselines.landmark import Landmark\n",
    "from baselines.mojito import Mojito\n",
    "import shap\n",
    "\n",
    "import json\n",
    "import warnings\n",
    "warnings.filterwarnings(\"ignore\")\n",
    "pd.options.display.max_colwidth = 100"
   ]
  },
  {
   "cell_type": "code",
   "execution_count": 528,
   "metadata": {
    "pycharm": {
     "name": "#%%\n"
    }
   },
   "outputs": [],
   "source": [
    "root_datadir = '../cheapER/datasets/'\n",
    "experiments_dir = '../examples/'\n",
    "dataset = 'amazon_google'\n",
    "datadir = os.path.join(root_datadir, dataset)"
   ]
  },
  {
   "cell_type": "code",
   "execution_count": 529,
   "metadata": {
    "pycharm": {
     "name": "#%%\n"
    }
   },
   "outputs": [],
   "source": [
    "lsource = pd.read_csv(datadir + '/tableA.csv')\n",
    "rsource = pd.read_csv(datadir + '/tableB.csv')\n",
    "gt = pd.read_csv(datadir + '/train.csv')\n",
    "valid = pd.read_csv(datadir + '/valid.csv')\n",
    "test = pd.read_csv(datadir + '/test.csv')\n",
    "\n",
    "test_df = merge_sources(test, 'ltable_', 'rtable_', lsource, rsource, ['label'], [])\n",
    "train_df = merge_sources(gt, 'ltable_', 'rtable_', lsource, rsource, ['label'], ['id'])"
   ]
  },
  {
   "cell_type": "code",
   "execution_count": 532,
   "metadata": {
    "pycharm": {
     "name": "#%%\n"
    }
   },
   "outputs": [
    {
     "name": "stderr",
     "output_type": "stream",
     "text": [
      "Some weights of the model checkpoint at distilbert-base-uncased were not used when initializing DistilBertForSequenceClassification: ['vocab_projector.bias', 'vocab_transform.bias', 'vocab_layer_norm.weight', 'vocab_layer_norm.bias', 'vocab_projector.weight', 'vocab_transform.weight']\n",
      "- This IS expected if you are initializing DistilBertForSequenceClassification from the checkpoint of a model trained on another task or with another architecture (e.g. initializing a BertForSequenceClassification model from a BertForPreTraining model).\n",
      "- This IS NOT expected if you are initializing DistilBertForSequenceClassification from the checkpoint of a model that you expect to be exactly identical (initializing a BertForSequenceClassification model from a BertForSequenceClassification model).\n",
      "Some weights of DistilBertForSequenceClassification were not initialized from the model checkpoint at distilbert-base-uncased and are newly initialized: ['classifier.bias', 'classifier.weight', 'pre_classifier.weight', 'pre_classifier.bias']\n",
      "You should probably TRAIN this model on a down-stream task to be able to use it for predictions and inference.\n",
      "file models/saved/ditto/amazon_google/config.json not found\n"
     ]
    },
    {
     "name": "stdout",
     "output_type": "stream",
     "text": [
      "working on amazon_google\n",
      "reading data from ../cheapER/datasets/amazon_google\n",
      "data loaded\n",
      "loading model from models/saved/ditto/amazon_google\n"
     ]
    }
   ],
   "source": [
    "from models.utils import get_model\n",
    "model_name = 'ditto'\n",
    "save_path = 'models/saved/' + model_name + '/' + dataset \n",
    "model = get_model(model_name, save_path, datadir, dataset)"
   ]
  },
  {
   "cell_type": "code",
   "execution_count": 533,
   "metadata": {
    "pycharm": {
     "name": "#%%\n"
    }
   },
   "outputs": [
    {
     "name": "stdout",
     "output_type": "stream",
     "text": [
      "***** Eval results after epoch -1 *****\n",
      "eval_loss: 0.6907387625049631\n",
      "f1_score: 0.09671532846715329\n",
      "report:               precision    recall  f1-score   support\n",
      "\n",
      "           0       0.87      0.61      0.72      2059\n",
      "           1       0.06      0.23      0.10       234\n",
      "\n",
      "    accuracy                           0.57      2293\n",
      "   macro avg       0.47      0.42      0.41      2293\n",
      "weighted avg       0.79      0.57      0.65      2293\n",
      "\n",
      "simple_accuracy: 0.5682511993022241\n",
      "              precision    recall  f1-score   support\n",
      "\n",
      "           0       0.87      0.61      0.72      2059\n",
      "           1       0.06      0.23      0.10       234\n",
      "\n",
      "    accuracy                           0.57      2293\n",
      "   macro avg       0.47      0.42      0.41      2293\n",
      "weighted avg       0.79      0.57      0.65      2293\n",
      "\n",
      "0.1\n"
     ]
    }
   ],
   "source": [
    "p, r, f1 = model.evaluation(test_df)\n",
    "print(f1)"
   ]
  },
  {
   "cell_type": "code",
   "execution_count": 534,
   "metadata": {},
   "outputs": [],
   "source": [
    "def predict_fn(x):\n",
    "    return model.predict(x)\n",
    "def predict_fn_mojito(x):\n",
    "    return model.predict(x, mojito=True)"
   ]
  },
  {
   "cell_type": "code",
   "execution_count": 535,
   "metadata": {
    "collapsed": false,
    "jupyter": {
     "outputs_hidden": false
    },
    "pycharm": {
     "name": "#%%\n"
    }
   },
   "outputs": [],
   "source": [
    "certa_explainer = CertaExplainer(lsource, rsource)"
   ]
  },
  {
   "cell_type": "code",
   "execution_count": 536,
   "metadata": {
    "pycharm": {
     "name": "#%%\n"
    }
   },
   "outputs": [
    {
     "data": {
      "text/html": [
       "<div>\n",
       "<style scoped>\n",
       "    .dataframe tbody tr th:only-of-type {\n",
       "        vertical-align: middle;\n",
       "    }\n",
       "\n",
       "    .dataframe tbody tr th {\n",
       "        vertical-align: top;\n",
       "    }\n",
       "\n",
       "    .dataframe thead th {\n",
       "        text-align: right;\n",
       "    }\n",
       "</style>\n",
       "<table border=\"1\" class=\"dataframe\">\n",
       "  <thead>\n",
       "    <tr style=\"text-align: right;\">\n",
       "      <th></th>\n",
       "      <th>label</th>\n",
       "      <th>ltable_manufacturer</th>\n",
       "      <th>ltable_price</th>\n",
       "      <th>ltable_title</th>\n",
       "      <th>rtable_manufacturer</th>\n",
       "      <th>rtable_price</th>\n",
       "      <th>rtable_title</th>\n",
       "      <th>classes</th>\n",
       "      <th>labels</th>\n",
       "      <th>nomatch_score</th>\n",
       "      <th>match_score</th>\n",
       "      <th>ltable_id</th>\n",
       "      <th>rtable_id</th>\n",
       "    </tr>\n",
       "  </thead>\n",
       "  <tbody>\n",
       "    <tr>\n",
       "      <th>0</th>\n",
       "      <td>0</td>\n",
       "      <td>microsoft software</td>\n",
       "      <td>5099.00</td>\n",
       "      <td>microsoft visual studio test agent 2005 cd 1 processor license</td>\n",
       "      <td>NaN</td>\n",
       "      <td>29.99</td>\n",
       "      <td>individual software professor teaches microsoft office 2007</td>\n",
       "      <td>0</td>\n",
       "      <td>0</td>\n",
       "      <td>0.503177</td>\n",
       "      <td>0.496823</td>\n",
       "      <td>393.0</td>\n",
       "      <td>831.0</td>\n",
       "    </tr>\n",
       "    <tr>\n",
       "      <th>1</th>\n",
       "      <td>0</td>\n",
       "      <td>adobe</td>\n",
       "      <td>399.00</td>\n",
       "      <td>adobe dreamweaver cs3 [ mac ]</td>\n",
       "      <td>NaN</td>\n",
       "      <td>1659.99</td>\n",
       "      <td>adobe cs3 web premium</td>\n",
       "      <td>1</td>\n",
       "      <td>0</td>\n",
       "      <td>0.490775</td>\n",
       "      <td>0.509225</td>\n",
       "      <td>559.0</td>\n",
       "      <td>324.0</td>\n",
       "    </tr>\n",
       "    <tr>\n",
       "      <th>2</th>\n",
       "      <td>0</td>\n",
       "      <td>topics entertainment</td>\n",
       "      <td>29.99</td>\n",
       "      <td>instant immersion spanish 2.0</td>\n",
       "      <td>NaN</td>\n",
       "      <td>36.11</td>\n",
       "      <td>instant immers japanese dlx 2 .</td>\n",
       "      <td>0</td>\n",
       "      <td>0</td>\n",
       "      <td>0.501230</td>\n",
       "      <td>0.498770</td>\n",
       "      <td>558.0</td>\n",
       "      <td>3023.0</td>\n",
       "    </tr>\n",
       "    <tr>\n",
       "      <th>3</th>\n",
       "      <td>0</td>\n",
       "      <td>me-too-software</td>\n",
       "      <td>29.99</td>\n",
       "      <td>i transfer dvds 2 ipod edition ( win/mac )</td>\n",
       "      <td>NaN</td>\n",
       "      <td>20.95</td>\n",
       "      <td>ghost recon gold edition ( dvd-rom )</td>\n",
       "      <td>0</td>\n",
       "      <td>0</td>\n",
       "      <td>0.511169</td>\n",
       "      <td>0.488831</td>\n",
       "      <td>762.0</td>\n",
       "      <td>1618.0</td>\n",
       "    </tr>\n",
       "    <tr>\n",
       "      <th>4</th>\n",
       "      <td>0</td>\n",
       "      <td>adobe</td>\n",
       "      <td>199.00</td>\n",
       "      <td>adobe flash pro cs3 upgrade [ mac ]</td>\n",
       "      <td>NaN</td>\n",
       "      <td>599.00</td>\n",
       "      <td>adobe illustrator cs3 ( mac )</td>\n",
       "      <td>1</td>\n",
       "      <td>0</td>\n",
       "      <td>0.488865</td>\n",
       "      <td>0.511135</td>\n",
       "      <td>1262.0</td>\n",
       "      <td>2860.0</td>\n",
       "    </tr>\n",
       "    <tr>\n",
       "      <th>...</th>\n",
       "      <td>...</td>\n",
       "      <td>...</td>\n",
       "      <td>...</td>\n",
       "      <td>...</td>\n",
       "      <td>...</td>\n",
       "      <td>...</td>\n",
       "      <td>...</td>\n",
       "      <td>...</td>\n",
       "      <td>...</td>\n",
       "      <td>...</td>\n",
       "      <td>...</td>\n",
       "      <td>...</td>\n",
       "      <td>...</td>\n",
       "    </tr>\n",
       "    <tr>\n",
       "      <th>2288</th>\n",
       "      <td>0</td>\n",
       "      <td>topics entertainment</td>\n",
       "      <td>NaN</td>\n",
       "      <td>instant immersion german audio</td>\n",
       "      <td>NaN</td>\n",
       "      <td>27.57</td>\n",
       "      <td>instant immers french dlx 2</td>\n",
       "      <td>0</td>\n",
       "      <td>0</td>\n",
       "      <td>0.500414</td>\n",
       "      <td>0.499586</td>\n",
       "      <td>646.0</td>\n",
       "      <td>2501.0</td>\n",
       "    </tr>\n",
       "    <tr>\n",
       "      <th>2289</th>\n",
       "      <td>0</td>\n",
       "      <td>adobe</td>\n",
       "      <td>699.00</td>\n",
       "      <td>adobe flash pro cs3 [ mac ]</td>\n",
       "      <td>NaN</td>\n",
       "      <td>18.88</td>\n",
       "      <td>38039295dm adobe flash cs3 professional v. 9 media tlp tlp nonprofit dvd mac</td>\n",
       "      <td>1</td>\n",
       "      <td>0</td>\n",
       "      <td>0.490123</td>\n",
       "      <td>0.509877</td>\n",
       "      <td>642.0</td>\n",
       "      <td>1927.0</td>\n",
       "    </tr>\n",
       "    <tr>\n",
       "      <th>2290</th>\n",
       "      <td>0</td>\n",
       "      <td>selectsoft publishing</td>\n",
       "      <td>19.95</td>\n",
       "      <td>let 's learn about time &amp; date</td>\n",
       "      <td>NaN</td>\n",
       "      <td>28.99</td>\n",
       "      <td>it 's about time products learn the switch to mac</td>\n",
       "      <td>0</td>\n",
       "      <td>0</td>\n",
       "      <td>0.501780</td>\n",
       "      <td>0.498220</td>\n",
       "      <td>342.0</td>\n",
       "      <td>570.0</td>\n",
       "    </tr>\n",
       "    <tr>\n",
       "      <th>2291</th>\n",
       "      <td>0</td>\n",
       "      <td>nolo press</td>\n",
       "      <td>79.99</td>\n",
       "      <td>quicken legal business pro 2007</td>\n",
       "      <td>NaN</td>\n",
       "      <td>179.99</td>\n",
       "      <td>quickbooks ( r ) pro 2007</td>\n",
       "      <td>0</td>\n",
       "      <td>0</td>\n",
       "      <td>0.506908</td>\n",
       "      <td>0.493092</td>\n",
       "      <td>1241.0</td>\n",
       "      <td>3092.0</td>\n",
       "    </tr>\n",
       "    <tr>\n",
       "      <th>2292</th>\n",
       "      <td>0</td>\n",
       "      <td>microsoft</td>\n",
       "      <td>239.99</td>\n",
       "      <td>microsoft office 2004 standard upgrade ( mac )</td>\n",
       "      <td>NaN</td>\n",
       "      <td>349.95</td>\n",
       "      <td>microsoft ( r ) project standard 2007</td>\n",
       "      <td>0</td>\n",
       "      <td>0</td>\n",
       "      <td>0.505303</td>\n",
       "      <td>0.494697</td>\n",
       "      <td>518.0</td>\n",
       "      <td>3194.0</td>\n",
       "    </tr>\n",
       "  </tbody>\n",
       "</table>\n",
       "<p>2293 rows × 13 columns</p>\n",
       "</div>"
      ],
      "text/plain": [
       "     label    ltable_manufacturer  ltable_price  \\\n",
       "0        0     microsoft software       5099.00   \n",
       "1        0                  adobe        399.00   \n",
       "2        0   topics entertainment         29.99   \n",
       "3        0        me-too-software         29.99   \n",
       "4        0                  adobe        199.00   \n",
       "...    ...                    ...           ...   \n",
       "2288     0   topics entertainment           NaN   \n",
       "2289     0                  adobe        699.00   \n",
       "2290     0  selectsoft publishing         19.95   \n",
       "2291     0             nolo press         79.99   \n",
       "2292     0              microsoft        239.99   \n",
       "\n",
       "                                                        ltable_title  \\\n",
       "0     microsoft visual studio test agent 2005 cd 1 processor license   \n",
       "1                                      adobe dreamweaver cs3 [ mac ]   \n",
       "2                                      instant immersion spanish 2.0   \n",
       "3                         i transfer dvds 2 ipod edition ( win/mac )   \n",
       "4                                adobe flash pro cs3 upgrade [ mac ]   \n",
       "...                                                              ...   \n",
       "2288                                  instant immersion german audio   \n",
       "2289                                     adobe flash pro cs3 [ mac ]   \n",
       "2290                                  let 's learn about time & date   \n",
       "2291                                 quicken legal business pro 2007   \n",
       "2292                  microsoft office 2004 standard upgrade ( mac )   \n",
       "\n",
       "     rtable_manufacturer  rtable_price  \\\n",
       "0                    NaN         29.99   \n",
       "1                    NaN       1659.99   \n",
       "2                    NaN         36.11   \n",
       "3                    NaN         20.95   \n",
       "4                    NaN        599.00   \n",
       "...                  ...           ...   \n",
       "2288                 NaN         27.57   \n",
       "2289                 NaN         18.88   \n",
       "2290                 NaN         28.99   \n",
       "2291                 NaN        179.99   \n",
       "2292                 NaN        349.95   \n",
       "\n",
       "                                                                      rtable_title  \\\n",
       "0                      individual software professor teaches microsoft office 2007   \n",
       "1                                                            adobe cs3 web premium   \n",
       "2                                                  instant immers japanese dlx 2 .   \n",
       "3                                             ghost recon gold edition ( dvd-rom )   \n",
       "4                                                    adobe illustrator cs3 ( mac )   \n",
       "...                                                                            ...   \n",
       "2288                                                   instant immers french dlx 2   \n",
       "2289  38039295dm adobe flash cs3 professional v. 9 media tlp tlp nonprofit dvd mac   \n",
       "2290                             it 's about time products learn the switch to mac   \n",
       "2291                                                     quickbooks ( r ) pro 2007   \n",
       "2292                                         microsoft ( r ) project standard 2007   \n",
       "\n",
       "      classes  labels  nomatch_score  match_score  ltable_id  rtable_id  \n",
       "0           0       0       0.503177     0.496823      393.0      831.0  \n",
       "1           1       0       0.490775     0.509225      559.0      324.0  \n",
       "2           0       0       0.501230     0.498770      558.0     3023.0  \n",
       "3           0       0       0.511169     0.488831      762.0     1618.0  \n",
       "4           1       0       0.488865     0.511135     1262.0     2860.0  \n",
       "...       ...     ...            ...          ...        ...        ...  \n",
       "2288        0       0       0.500414     0.499586      646.0     2501.0  \n",
       "2289        1       0       0.490123     0.509877      642.0     1927.0  \n",
       "2290        0       0       0.501780     0.498220      342.0      570.0  \n",
       "2291        0       0       0.506908     0.493092     1241.0     3092.0  \n",
       "2292        0       0       0.505303     0.494697      518.0     3194.0  \n",
       "\n",
       "[2293 rows x 13 columns]"
      ]
     },
     "execution_count": 536,
     "metadata": {},
     "output_type": "execute_result"
    }
   ],
   "source": [
    "predictions = model.predict(test_df)\n",
    "predictions"
   ]
  },
  {
   "cell_type": "code",
   "execution_count": 537,
   "metadata": {},
   "outputs": [],
   "source": [
    "false_positives = predictions.loc[(predictions['label'] == 0) & (predictions['match_score'] > 0.5)]\n",
    "false_negatives = predictions.loc[(predictions['label'] == 1) & (predictions['match_score'] < 0.5)]"
   ]
  },
  {
   "cell_type": "code",
   "execution_count": 538,
   "metadata": {},
   "outputs": [],
   "source": [
    "import seaborn as sns\n",
    "nm_cm = sns.light_palette(\"red\", as_cmap=True)\n",
    "m_cm = sns.light_palette(\"green\", as_cmap=True)\n",
    "cm = sns.light_palette(\"blue\", as_cmap=True)"
   ]
  },
  {
   "cell_type": "code",
   "execution_count": 539,
   "metadata": {
    "pycharm": {
     "name": "#%%\n"
    }
   },
   "outputs": [
    {
     "data": {
      "text/html": [
       "<div>\n",
       "<style scoped>\n",
       "    .dataframe tbody tr th:only-of-type {\n",
       "        vertical-align: middle;\n",
       "    }\n",
       "\n",
       "    .dataframe tbody tr th {\n",
       "        vertical-align: top;\n",
       "    }\n",
       "\n",
       "    .dataframe thead th {\n",
       "        text-align: right;\n",
       "    }\n",
       "</style>\n",
       "<table border=\"1\" class=\"dataframe\">\n",
       "  <thead>\n",
       "    <tr style=\"text-align: right;\">\n",
       "      <th></th>\n",
       "      <th>ltable_manufacturer</th>\n",
       "      <th>ltable_price</th>\n",
       "      <th>ltable_title</th>\n",
       "      <th>rtable_manufacturer</th>\n",
       "      <th>rtable_price</th>\n",
       "      <th>rtable_title</th>\n",
       "    </tr>\n",
       "  </thead>\n",
       "  <tbody>\n",
       "    <tr>\n",
       "      <th>0</th>\n",
       "      <td>adobe</td>\n",
       "      <td>399.0</td>\n",
       "      <td>adobe dreamweaver cs3 [ mac ]</td>\n",
       "      <td>NaN</td>\n",
       "      <td>1659.99</td>\n",
       "      <td>adobe cs3 web premium</td>\n",
       "    </tr>\n",
       "  </tbody>\n",
       "</table>\n",
       "</div>"
      ],
      "text/plain": [
       "  ltable_manufacturer  ltable_price                   ltable_title  \\\n",
       "0               adobe         399.0  adobe dreamweaver cs3 [ mac ]   \n",
       "\n",
       "   rtable_manufacturer  rtable_price           rtable_title  \n",
       "0                  NaN       1659.99  adobe cs3 web premium  "
      ]
     },
     "execution_count": 539,
     "metadata": {},
     "output_type": "execute_result"
    }
   ],
   "source": [
    "i = 0\n",
    "rand_row =  false_positives.iloc[i]\n",
    "l_id = int(rand_row['ltable_id'])\n",
    "label = rand_row[\"label\"]\n",
    "l_tuple = lsource.iloc[l_id]\n",
    "r_id = int(rand_row['rtable_id'])\n",
    "r_tuple = rsource.iloc[r_id]\n",
    "rand_row.head()\n",
    "label = rand_row['label']\n",
    "\n",
    "item = get_row(l_tuple, r_tuple)\n",
    "n_item = item.drop(['ltable_id','rtable_id'],axis=1)\n",
    "n_item.reindex(sorted(n_item.columns), axis=1)"
   ]
  },
  {
   "cell_type": "code",
   "execution_count": 540,
   "metadata": {
    "pycharm": {
     "name": "#%%\n"
    }
   },
   "outputs": [
    {
     "data": {
      "text/plain": [
       "nomatch_score    0.516137\n",
       "match_score      0.483863\n",
       "Name: 23, dtype: object"
      ]
     },
     "execution_count": 540,
     "metadata": {},
     "output_type": "execute_result"
    }
   ],
   "source": [
    "original_prediction = false_negatives.iloc[i][['nomatch_score', 'match_score']]\n",
    "original_prediction"
   ]
  },
  {
   "cell_type": "code",
   "execution_count": 541,
   "metadata": {
    "pycharm": {
     "name": "#%%\n"
    }
   },
   "outputs": [
    {
     "data": {
      "text/plain": [
       "0.48386255"
      ]
     },
     "execution_count": 541,
     "metadata": {},
     "output_type": "execute_result"
    }
   ],
   "source": [
    "score = original_prediction[1]\n",
    "score"
   ]
  },
  {
   "cell_type": "code",
   "execution_count": 542,
   "metadata": {},
   "outputs": [
    {
     "data": {
      "text/html": [
       "<div>\n",
       "<style scoped>\n",
       "    .dataframe tbody tr th:only-of-type {\n",
       "        vertical-align: middle;\n",
       "    }\n",
       "\n",
       "    .dataframe tbody tr th {\n",
       "        vertical-align: top;\n",
       "    }\n",
       "\n",
       "    .dataframe thead th {\n",
       "        text-align: right;\n",
       "    }\n",
       "</style>\n",
       "<table border=\"1\" class=\"dataframe\">\n",
       "  <thead>\n",
       "    <tr style=\"text-align: right;\">\n",
       "      <th></th>\n",
       "      <th>label</th>\n",
       "      <th>score</th>\n",
       "    </tr>\n",
       "  </thead>\n",
       "  <tbody>\n",
       "    <tr>\n",
       "      <th>0</th>\n",
       "      <td>0</td>\n",
       "      <td>0.483863</td>\n",
       "    </tr>\n",
       "  </tbody>\n",
       "</table>\n",
       "</div>"
      ],
      "text/plain": [
       "   label     score\n",
       "0      0  0.483863"
      ]
     },
     "execution_count": 542,
     "metadata": {},
     "output_type": "execute_result"
    }
   ],
   "source": [
    "pd.DataFrame(data=[[label, score]], columns=['label','score'])"
   ]
  },
  {
   "cell_type": "code",
   "execution_count": 543,
   "metadata": {},
   "outputs": [
    {
     "data": {
      "text/html": [
       "<div>\n",
       "<style scoped>\n",
       "    .dataframe tbody tr th:only-of-type {\n",
       "        vertical-align: middle;\n",
       "    }\n",
       "\n",
       "    .dataframe tbody tr th {\n",
       "        vertical-align: top;\n",
       "    }\n",
       "\n",
       "    .dataframe thead th {\n",
       "        text-align: right;\n",
       "    }\n",
       "</style>\n",
       "<table border=\"1\" class=\"dataframe\">\n",
       "  <thead>\n",
       "    <tr style=\"text-align: right;\">\n",
       "      <th></th>\n",
       "      <th>id</th>\n",
       "      <th>title</th>\n",
       "      <th>manufacturer</th>\n",
       "      <th>price</th>\n",
       "    </tr>\n",
       "  </thead>\n",
       "  <tbody>\n",
       "    <tr>\n",
       "      <th>559</th>\n",
       "      <td>559</td>\n",
       "      <td>adobe dreamweaver cs3 [ mac ]</td>\n",
       "      <td>adobe</td>\n",
       "      <td>399</td>\n",
       "    </tr>\n",
       "  </tbody>\n",
       "</table>\n",
       "</div>"
      ],
      "text/plain": [
       "      id                          title manufacturer price\n",
       "559  559  adobe dreamweaver cs3 [ mac ]        adobe   399"
      ]
     },
     "execution_count": 543,
     "metadata": {},
     "output_type": "execute_result"
    }
   ],
   "source": [
    "pd.DataFrame(l_tuple).T"
   ]
  },
  {
   "cell_type": "code",
   "execution_count": 544,
   "metadata": {},
   "outputs": [
    {
     "data": {
      "text/html": [
       "<div>\n",
       "<style scoped>\n",
       "    .dataframe tbody tr th:only-of-type {\n",
       "        vertical-align: middle;\n",
       "    }\n",
       "\n",
       "    .dataframe tbody tr th {\n",
       "        vertical-align: top;\n",
       "    }\n",
       "\n",
       "    .dataframe thead th {\n",
       "        text-align: right;\n",
       "    }\n",
       "</style>\n",
       "<table border=\"1\" class=\"dataframe\">\n",
       "  <thead>\n",
       "    <tr style=\"text-align: right;\">\n",
       "      <th></th>\n",
       "      <th>id</th>\n",
       "      <th>title</th>\n",
       "      <th>manufacturer</th>\n",
       "      <th>price</th>\n",
       "    </tr>\n",
       "  </thead>\n",
       "  <tbody>\n",
       "    <tr>\n",
       "      <th>324</th>\n",
       "      <td>324</td>\n",
       "      <td>adobe cs3 web premium</td>\n",
       "      <td>NaN</td>\n",
       "      <td>1659.99</td>\n",
       "    </tr>\n",
       "  </tbody>\n",
       "</table>\n",
       "</div>"
      ],
      "text/plain": [
       "      id                  title manufacturer    price\n",
       "324  324  adobe cs3 web premium          NaN  1659.99"
      ]
     },
     "execution_count": 544,
     "metadata": {},
     "output_type": "execute_result"
    }
   ],
   "source": [
    "pd.DataFrame(r_tuple).T"
   ]
  },
  {
   "cell_type": "code",
   "execution_count": 545,
   "metadata": {
    "pycharm": {
     "name": "#%%\n"
    }
   },
   "outputs": [],
   "source": [
    "saliency_df, cf_summary, counterfactual_examples, triangles = certa_explainer.explain(l_tuple, r_tuple, predict_fn, num_triangles=10)"
   ]
  },
  {
   "cell_type": "code",
   "execution_count": 546,
   "metadata": {},
   "outputs": [
    {
     "data": {
      "text/html": [
       "<style  type=\"text/css\" >\n",
       "#T_e442a764_8432_11ec_a6dc_24418c396bddrow0_col0,#T_e442a764_8432_11ec_a6dc_24418c396bddrow0_col1,#T_e442a764_8432_11ec_a6dc_24418c396bddrow0_col2{\n",
       "            background-color:  #d8d8ff;\n",
       "            color:  #000000;\n",
       "        }#T_e442a764_8432_11ec_a6dc_24418c396bddrow0_col3{\n",
       "            background-color:  #adadff;\n",
       "            color:  #000000;\n",
       "        }#T_e442a764_8432_11ec_a6dc_24418c396bddrow0_col4{\n",
       "            background-color:  #a7a7ff;\n",
       "            color:  #000000;\n",
       "        }#T_e442a764_8432_11ec_a6dc_24418c396bddrow0_col5{\n",
       "            background-color:  #5151ff;\n",
       "            color:  #f1f1f1;\n",
       "        }</style><table id=\"T_e442a764_8432_11ec_a6dc_24418c396bdd\" ><thead>    <tr>        <th class=\"blank level0\" ></th>        <th class=\"col_heading level0 col0\" >ltable_manufacturer</th>        <th class=\"col_heading level0 col1\" >ltable_price</th>        <th class=\"col_heading level0 col2\" >ltable_title</th>        <th class=\"col_heading level0 col3\" >rtable_manufacturer</th>        <th class=\"col_heading level0 col4\" >rtable_price</th>        <th class=\"col_heading level0 col5\" >rtable_title</th>    </tr></thead><tbody>\n",
       "                <tr>\n",
       "                        <th id=\"T_e442a764_8432_11ec_a6dc_24418c396bddlevel0_row0\" class=\"row_heading level0 row0\" >0</th>\n",
       "                        <td id=\"T_e442a764_8432_11ec_a6dc_24418c396bddrow0_col0\" class=\"data row0 col0\" >0.285714</td>\n",
       "                        <td id=\"T_e442a764_8432_11ec_a6dc_24418c396bddrow0_col1\" class=\"data row0 col1\" >0.285714</td>\n",
       "                        <td id=\"T_e442a764_8432_11ec_a6dc_24418c396bddrow0_col2\" class=\"data row0 col2\" >0.285714</td>\n",
       "                        <td id=\"T_e442a764_8432_11ec_a6dc_24418c396bddrow0_col3\" class=\"data row0 col3\" >0.514286</td>\n",
       "                        <td id=\"T_e442a764_8432_11ec_a6dc_24418c396bddrow0_col4\" class=\"data row0 col4\" >0.542857</td>\n",
       "                        <td id=\"T_e442a764_8432_11ec_a6dc_24418c396bddrow0_col5\" class=\"data row0 col5\" >1.000000</td>\n",
       "            </tr>\n",
       "    </tbody></table>"
      ],
      "text/plain": [
       "<pandas.io.formats.style.Styler at 0x7f7f74fe0ac8>"
      ]
     },
     "execution_count": 546,
     "metadata": {},
     "output_type": "execute_result"
    }
   ],
   "source": [
    "saliency_df.reindex(sorted(saliency_df.columns), axis=1).style.background_gradient(cmap=cm, axis=1, low=0.1, high=0.6)"
   ]
  },
  {
   "cell_type": "code",
   "execution_count": 547,
   "metadata": {},
   "outputs": [
    {
     "data": {
      "text/plain": [
       "<matplotlib.axes._subplots.AxesSubplot at 0x7f7f74fd1a90>"
      ]
     },
     "execution_count": 547,
     "metadata": {},
     "output_type": "execute_result"
    },
    {
     "data": {
      "image/png": "[encoded data removed]",
      "text/plain": [
       "<Figure size 432x288 with 1 Axes>"
      ]
     },
     "metadata": {
      "needs_background": "light"
     },
     "output_type": "display_data"
    }
   ],
   "source": [
    "saliency_df.reindex(sorted(saliency_df.columns), axis=1).plot(kind='bar',title='certa')"
   ]
  },
  {
   "cell_type": "code",
   "execution_count": 548,
   "metadata": {
    "pycharm": {
     "name": "#%%\n"
    }
   },
   "outputs": [],
   "source": [
    "landmark_explainer = Landmark(lambda x: predict_fn(x)['match_score'].values, test_df,\n",
    "                              lprefix='',\n",
    "                              exclude_attrs=['id', 'ltable_id', 'rtable_id', 'label'],\n",
    "                              rprefix='',\n",
    "                              split_expression=r' ')\n",
    "labelled_item = item.copy()\n",
    "labelled_item['label'] = int(label)\n",
    "labelled_item['id'] = i\n",
    "land_explanation = landmark_explainer.explain(labelled_item)\n",
    "land_exp = land_explanation.groupby('column')['impact'].sum().to_dict()"
   ]
  },
  {
   "cell_type": "code",
   "execution_count": 549,
   "metadata": {},
   "outputs": [
    {
     "data": {
      "text/html": [
       "<style  type=\"text/css\" >\n",
       "#T_5912141c_8433_11ec_a6dc_24418c396bddrow0_col0{\n",
       "            background-color:  #5050ff;\n",
       "            color:  #f1f1f1;\n",
       "        }#T_5912141c_8433_11ec_a6dc_24418c396bddrow0_col1{\n",
       "            background-color:  #6161ff;\n",
       "            color:  #000000;\n",
       "        }#T_5912141c_8433_11ec_a6dc_24418c396bddrow0_col2{\n",
       "            background-color:  #ccccff;\n",
       "            color:  #000000;\n",
       "        }#T_5912141c_8433_11ec_a6dc_24418c396bddrow0_col3{\n",
       "            background-color:  #4d4dff;\n",
       "            color:  #f1f1f1;\n",
       "        }#T_5912141c_8433_11ec_a6dc_24418c396bddrow0_col4{\n",
       "            background-color:  #7878ff;\n",
       "            color:  #000000;\n",
       "        }#T_5912141c_8433_11ec_a6dc_24418c396bddrow0_col5{\n",
       "            background-color:  #b8b8ff;\n",
       "            color:  #000000;\n",
       "        }</style><table id=\"T_5912141c_8433_11ec_a6dc_24418c396bdd\" ><thead>    <tr>        <th class=\"blank level0\" ></th>        <th class=\"col_heading level0 col0\" >ltable_manufacturer</th>        <th class=\"col_heading level0 col1\" >ltable_price</th>        <th class=\"col_heading level0 col2\" >ltable_title</th>        <th class=\"col_heading level0 col3\" >rtable_manufacturer</th>        <th class=\"col_heading level0 col4\" >rtable_price</th>        <th class=\"col_heading level0 col5\" >rtable_title</th>    </tr></thead><tbody>\n",
       "                <tr>\n",
       "                        <th id=\"T_5912141c_8433_11ec_a6dc_24418c396bddlevel0_row0\" class=\"row_heading level0 row0\" >0</th>\n",
       "                        <td id=\"T_5912141c_8433_11ec_a6dc_24418c396bddrow0_col0\" class=\"data row0 col0\" >0.000207</td>\n",
       "                        <td id=\"T_5912141c_8433_11ec_a6dc_24418c396bddrow0_col1\" class=\"data row0 col1\" >-0.001401</td>\n",
       "                        <td id=\"T_5912141c_8433_11ec_a6dc_24418c396bddrow0_col2\" class=\"data row0 col2\" >-0.011555</td>\n",
       "                        <td id=\"T_5912141c_8433_11ec_a6dc_24418c396bddrow0_col3\" class=\"data row0 col3\" >0.000587</td>\n",
       "                        <td id=\"T_5912141c_8433_11ec_a6dc_24418c396bddrow0_col4\" class=\"data row0 col4\" >-0.003492</td>\n",
       "                        <td id=\"T_5912141c_8433_11ec_a6dc_24418c396bddrow0_col5\" class=\"data row0 col5\" >-0.009630</td>\n",
       "            </tr>\n",
       "    </tbody></table>"
      ],
      "text/plain": [
       "<pandas.io.formats.style.Styler at 0x7f7f7c9f2630>"
      ]
     },
     "execution_count": 549,
     "metadata": {},
     "output_type": "execute_result"
    }
   ],
   "source": [
    "pd.DataFrame(data=[land_exp.values()], columns=land_exp.keys()).reindex(sorted(land_exp.keys()), axis=1).style.background_gradient(cmap=cm, axis=1, low=0.2, high=0.6)"
   ]
  },
  {
   "cell_type": "code",
   "execution_count": 550,
   "metadata": {},
   "outputs": [
    {
     "data": {
      "text/plain": [
       "<matplotlib.axes._subplots.AxesSubplot at 0x7f7f7ca5ee10>"
      ]
     },
     "execution_count": 550,
     "metadata": {},
     "output_type": "execute_result"
    },
    {
     "data": {
      "image/png": "[encoded data removed]",
      "text/plain": [
       "<Figure size 432x288 with 1 Axes>"
      ]
     },
     "metadata": {
      "needs_background": "light"
     },
     "output_type": "display_data"
    }
   ],
   "source": [
    "pd.DataFrame(data=[land_exp.values()], columns=land_exp.keys()).reindex(sorted(land_exp.keys()), axis=1).plot(kind='bar',title='landmark')"
   ]
  },
  {
   "cell_type": "code",
   "execution_count": 551,
   "metadata": {
    "pycharm": {
     "name": "#%%\n"
    }
   },
   "outputs": [],
   "source": [
    "shap_explainer = shap.KernelExplainer(lambda x: predict_fn(x)['match_score'].values,\n",
    "                                      train_df.drop(['label'], axis=1).astype(str)[:50],\n",
    "                                      link='identity')\n",
    "shap_instance = test_df.iloc[i, 1:].drop(['ltable_id', 'rtable_id']).astype(str)\n",
    "shap_values = shap_explainer.shap_values(shap_instance, nsamples=100)\n",
    "match_shap_values = shap_values\n",
    "shap_saliency = dict()\n",
    "for sv in range(len(match_shap_values)):\n",
    "    shap_saliency[train_df.columns[1 + sv]] = match_shap_values[sv]\n"
   ]
  },
  {
   "cell_type": "code",
   "execution_count": 552,
   "metadata": {},
   "outputs": [
    {
     "data": {
      "text/html": [
       "<style  type=\"text/css\" >\n",
       "#T_af771dec_8434_11ec_a6dc_24418c396bddrow0_col0{\n",
       "            background-color:  #8f8fff;\n",
       "            color:  #000000;\n",
       "        }#T_af771dec_8434_11ec_a6dc_24418c396bddrow0_col1{\n",
       "            background-color:  #7f7fff;\n",
       "            color:  #000000;\n",
       "        }#T_af771dec_8434_11ec_a6dc_24418c396bddrow0_col2{\n",
       "            background-color:  #4d4dff;\n",
       "            color:  #f1f1f1;\n",
       "        }#T_af771dec_8434_11ec_a6dc_24418c396bddrow0_col3{\n",
       "            background-color:  #7a7aff;\n",
       "            color:  #000000;\n",
       "        }#T_af771dec_8434_11ec_a6dc_24418c396bddrow0_col4{\n",
       "            background-color:  #8c8cff;\n",
       "            color:  #000000;\n",
       "        }#T_af771dec_8434_11ec_a6dc_24418c396bddrow0_col5{\n",
       "            background-color:  #ccccff;\n",
       "            color:  #000000;\n",
       "        }</style><table id=\"T_af771dec_8434_11ec_a6dc_24418c396bdd\" ><thead>    <tr>        <th class=\"blank level0\" ></th>        <th class=\"col_heading level0 col0\" >ltable_manufacturer</th>        <th class=\"col_heading level0 col1\" >ltable_price</th>        <th class=\"col_heading level0 col2\" >ltable_title</th>        <th class=\"col_heading level0 col3\" >rtable_manufacturer</th>        <th class=\"col_heading level0 col4\" >rtable_price</th>        <th class=\"col_heading level0 col5\" >rtable_title</th>    </tr></thead><tbody>\n",
       "                <tr>\n",
       "                        <th id=\"T_af771dec_8434_11ec_a6dc_24418c396bddlevel0_row0\" class=\"row_heading level0 row0\" >0</th>\n",
       "                        <td id=\"T_af771dec_8434_11ec_a6dc_24418c396bddrow0_col0\" class=\"data row0 col0\" >-0.000539</td>\n",
       "                        <td id=\"T_af771dec_8434_11ec_a6dc_24418c396bddrow0_col1\" class=\"data row0 col1\" >0.000190</td>\n",
       "                        <td id=\"T_af771dec_8434_11ec_a6dc_24418c396bddrow0_col2\" class=\"data row0 col2\" >0.002440</td>\n",
       "                        <td id=\"T_af771dec_8434_11ec_a6dc_24418c396bddrow0_col3\" class=\"data row0 col3\" >0.000410</td>\n",
       "                        <td id=\"T_af771dec_8434_11ec_a6dc_24418c396bddrow0_col4\" class=\"data row0 col4\" >-0.000433</td>\n",
       "                        <td id=\"T_af771dec_8434_11ec_a6dc_24418c396bddrow0_col5\" class=\"data row0 col5\" >-0.003299</td>\n",
       "            </tr>\n",
       "    </tbody></table>"
      ],
      "text/plain": [
       "<pandas.io.formats.style.Styler at 0x7f7f7751ecc0>"
      ]
     },
     "execution_count": 552,
     "metadata": {},
     "output_type": "execute_result"
    }
   ],
   "source": [
    "pd.DataFrame(data=[shap_saliency.values()], columns=shap_saliency.keys()).reindex(sorted(shap_saliency.keys()), axis=1).style.background_gradient(cmap=cm, axis=1, low=0.2, high=0.6)"
   ]
  },
  {
   "cell_type": "code",
   "execution_count": 553,
   "metadata": {},
   "outputs": [
    {
     "data": {
      "text/plain": [
       "<matplotlib.axes._subplots.AxesSubplot at 0x7f7f7d6d83c8>"
      ]
     },
     "execution_count": 553,
     "metadata": {},
     "output_type": "execute_result"
    },
    {
     "data": {
      "image/png": "[encoded data removed]",
      "text/plain": [
       "<Figure size 432x288 with 1 Axes>"
      ]
     },
     "metadata": {
      "needs_background": "light"
     },
     "output_type": "display_data"
    }
   ],
   "source": [
    "pd.DataFrame(data=[shap_saliency.values()], columns=shap_saliency.keys()).reindex(sorted(shap_saliency.keys()), axis=1).plot(kind='bar',title='shap')"
   ]
  },
  {
   "cell_type": "code",
   "execution_count": 554,
   "metadata": {
    "pycharm": {
     "name": "#%%\n"
    }
   },
   "outputs": [
    {
     "name": "stdout",
     "output_type": "stream",
     "text": [
      "Explaining 0/1\n"
     ]
    }
   ],
   "source": [
    "mojito = Mojito(test_df.columns,\n",
    "                attr_to_copy='left',\n",
    "                split_expression=\" \",\n",
    "                class_names=['no_match', 'match'],\n",
    "                lprefix='', rprefix='',\n",
    "                feature_selection='lasso_path')\n",
    "mojito_exp = mojito.drop(predict_fn_mojito, item,\n",
    "                              num_features=30,\n",
    "                              num_perturbation=100)\n",
    "mojito_exp = mojito_exp.groupby('attribute')['weight'].mean().to_dict()\n",
    "for f in item.columns:\n",
    "    if not f in mojito_exp.keys():\n",
    "        mojito_exp[f] = 0\n",
    "if 'id' in mojito_exp:\n",
    "    mojito_exp.pop('id', None)\n",
    "if 'ltable_id' in mojito_exp:\n",
    "    mojito_exp.pop('ltable_id', None)\n",
    "if 'rtable_id' in mojito_exp:\n",
    "    mojito_exp.pop('rtable_id', None)"
   ]
  },
  {
   "cell_type": "code",
   "execution_count": 555,
   "metadata": {},
   "outputs": [
    {
     "data": {
      "text/html": [
       "<style  type=\"text/css\" >\n",
       "#T_ba3c3fb4_8434_11ec_a6dc_24418c396bddrow0_col0{\n",
       "            background-color:  #adadff;\n",
       "            color:  #000000;\n",
       "        }#T_ba3c3fb4_8434_11ec_a6dc_24418c396bddrow0_col1{\n",
       "            background-color:  #b0b0ff;\n",
       "            color:  #000000;\n",
       "        }#T_ba3c3fb4_8434_11ec_a6dc_24418c396bddrow0_col2{\n",
       "            background-color:  #6464ff;\n",
       "            color:  #000000;\n",
       "        }#T_ba3c3fb4_8434_11ec_a6dc_24418c396bddrow0_col3{\n",
       "            background-color:  #7070ff;\n",
       "            color:  #000000;\n",
       "        }#T_ba3c3fb4_8434_11ec_a6dc_24418c396bddrow0_col4{\n",
       "            background-color:  #4d4dff;\n",
       "            color:  #f1f1f1;\n",
       "        }#T_ba3c3fb4_8434_11ec_a6dc_24418c396bddrow0_col5{\n",
       "            background-color:  #ccccff;\n",
       "            color:  #000000;\n",
       "        }</style><table id=\"T_ba3c3fb4_8434_11ec_a6dc_24418c396bdd\" ><thead>    <tr>        <th class=\"blank level0\" ></th>        <th class=\"col_heading level0 col0\" >ltable_manufacturer</th>        <th class=\"col_heading level0 col1\" >ltable_price</th>        <th class=\"col_heading level0 col2\" >ltable_title</th>        <th class=\"col_heading level0 col3\" >rtable_manufacturer</th>        <th class=\"col_heading level0 col4\" >rtable_price</th>        <th class=\"col_heading level0 col5\" >rtable_title</th>    </tr></thead><tbody>\n",
       "                <tr>\n",
       "                        <th id=\"T_ba3c3fb4_8434_11ec_a6dc_24418c396bddlevel0_row0\" class=\"row_heading level0 row0\" >0</th>\n",
       "                        <td id=\"T_ba3c3fb4_8434_11ec_a6dc_24418c396bddrow0_col0\" class=\"data row0 col0\" >-0.000658</td>\n",
       "                        <td id=\"T_ba3c3fb4_8434_11ec_a6dc_24418c396bddrow0_col1\" class=\"data row0 col1\" >-0.000686</td>\n",
       "                        <td id=\"T_ba3c3fb4_8434_11ec_a6dc_24418c396bddrow0_col2\" class=\"data row0 col2\" >0.000126</td>\n",
       "                        <td id=\"T_ba3c3fb4_8434_11ec_a6dc_24418c396bddrow0_col3\" class=\"data row0 col3\" >0</td>\n",
       "                        <td id=\"T_ba3c3fb4_8434_11ec_a6dc_24418c396bddrow0_col4\" class=\"data row0 col4\" >0.000386</td>\n",
       "                        <td id=\"T_ba3c3fb4_8434_11ec_a6dc_24418c396bddrow0_col5\" class=\"data row0 col5\" >-0.001002</td>\n",
       "            </tr>\n",
       "    </tbody></table>"
      ],
      "text/plain": [
       "<pandas.io.formats.style.Styler at 0x7f7f7d5fe0f0>"
      ]
     },
     "execution_count": 555,
     "metadata": {},
     "output_type": "execute_result"
    }
   ],
   "source": [
    "pd.DataFrame(data=[mojito_exp.values()], columns=mojito_exp.keys()).reindex(sorted(mojito_exp.keys()), axis=1).style.background_gradient(cmap=cm, axis=1, low=0.2, high=0.6)"
   ]
  },
  {
   "cell_type": "code",
   "execution_count": 556,
   "metadata": {},
   "outputs": [
    {
     "data": {
      "text/plain": [
       "<matplotlib.axes._subplots.AxesSubplot at 0x7f7f7d2da390>"
      ]
     },
     "execution_count": 556,
     "metadata": {},
     "output_type": "execute_result"
    },
    {
     "data": {
      "image/png": "[encoded data removed]",
      "text/plain": [
       "<Figure size 432x288 with 1 Axes>"
      ]
     },
     "metadata": {
      "needs_background": "light"
     },
     "output_type": "display_data"
    }
   ],
   "source": [
    "pd.DataFrame(data=[mojito_exp.values()], columns=mojito_exp.keys()).reindex(sorted(mojito_exp.keys()), axis=1).plot(kind='bar',title='mojito')"
   ]
  },
  {
   "cell_type": "code",
   "execution_count": 557,
   "metadata": {},
   "outputs": [
    {
     "data": {
      "text/html": [
       "<style  type=\"text/css\" >\n",
       "#T_ba8c7ba0_8434_11ec_a6dc_24418c396bddrow0_col0{\n",
       "            background-color:  #6666ff;\n",
       "            color:  #000000;\n",
       "        }#T_ba8c7ba0_8434_11ec_a6dc_24418c396bddrow0_col1{\n",
       "            background-color:  #c8c8ff;\n",
       "            color:  #000000;\n",
       "        }#T_ba8c7ba0_8434_11ec_a6dc_24418c396bddrow0_col2{\n",
       "            background-color:  #5a5aff;\n",
       "            color:  #f1f1f1;\n",
       "        }#T_ba8c7ba0_8434_11ec_a6dc_24418c396bddrow0_col3{\n",
       "            background-color:  #ccccff;\n",
       "            color:  #000000;\n",
       "        }#T_ba8c7ba0_8434_11ec_a6dc_24418c396bddrow0_col4{\n",
       "            background-color:  #4d4dff;\n",
       "            color:  #f1f1f1;\n",
       "        }#T_ba8c7ba0_8434_11ec_a6dc_24418c396bddrow0_col5{\n",
       "            background-color:  #aeaeff;\n",
       "            color:  #000000;\n",
       "        }</style><table id=\"T_ba8c7ba0_8434_11ec_a6dc_24418c396bdd\" ><thead>    <tr>        <th class=\"blank level0\" ></th>        <th class=\"col_heading level0 col0\" >ltable_manufacturer</th>        <th class=\"col_heading level0 col1\" >ltable_price</th>        <th class=\"col_heading level0 col2\" >ltable_title</th>        <th class=\"col_heading level0 col3\" >rtable_manufacturer</th>        <th class=\"col_heading level0 col4\" >rtable_price</th>        <th class=\"col_heading level0 col5\" >rtable_title</th>    </tr></thead><tbody>\n",
       "                <tr>\n",
       "                        <th id=\"T_ba8c7ba0_8434_11ec_a6dc_24418c396bddlevel0_row0\" class=\"row_heading level0 row0\" >0</th>\n",
       "                        <td id=\"T_ba8c7ba0_8434_11ec_a6dc_24418c396bddrow0_col0\" class=\"data row0 col0\" >0.585154</td>\n",
       "                        <td id=\"T_ba8c7ba0_8434_11ec_a6dc_24418c396bddrow0_col1\" class=\"data row0 col1\" >-0.840685</td>\n",
       "                        <td id=\"T_ba8c7ba0_8434_11ec_a6dc_24418c396bddrow0_col2\" class=\"data row0 col2\" >0.757251</td>\n",
       "                        <td id=\"T_ba8c7ba0_8434_11ec_a6dc_24418c396bddrow0_col3\" class=\"data row0 col3\" >-0.900677</td>\n",
       "                        <td id=\"T_ba8c7ba0_8434_11ec_a6dc_24418c396bddrow0_col4\" class=\"data row0 col4\" >0.952211</td>\n",
       "                        <td id=\"T_ba8c7ba0_8434_11ec_a6dc_24418c396bddrow0_col5\" class=\"data row0 col5\" >-0.461468</td>\n",
       "            </tr>\n",
       "    </tbody></table>"
      ],
      "text/plain": [
       "<pandas.io.formats.style.Styler at 0x7f7f6e835eb8>"
      ]
     },
     "execution_count": 557,
     "metadata": {},
     "output_type": "execute_result"
    }
   ],
   "source": [
    "import random\n",
    "\n",
    "null_hyp = dict()\n",
    "for r in n_item.columns:\n",
    "    null_hyp[r] = random.uniform(-1, 1)\n",
    "null_hyp_saliency_df = pd.DataFrame(data=[null_hyp.values()], columns=null_hyp.keys())\n",
    "null_hyp_saliency_df.reindex(sorted(null_hyp.keys()), axis=1).style.background_gradient(cmap=cm, axis=1, low=0.2, high=0.6)"
   ]
  },
  {
   "cell_type": "code",
   "execution_count": 558,
   "metadata": {},
   "outputs": [
    {
     "data": {
      "text/plain": [
       "<matplotlib.axes._subplots.AxesSubplot at 0x7f7f7c9f2358>"
      ]
     },
     "execution_count": 558,
     "metadata": {},
     "output_type": "execute_result"
    },
    {
     "data": {
      "image/png": "[encoded data removed]",
      "text/plain": [
       "<Figure size 432x288 with 1 Axes>"
      ]
     },
     "metadata": {
      "needs_background": "light"
     },
     "output_type": "display_data"
    }
   ],
   "source": [
    "null_hyp_saliency_df.reindex(sorted(null_hyp.keys()), axis=1).plot(kind='bar',title='null')"
   ]
  },
  {
   "cell_type": "code",
   "execution_count": 559,
   "metadata": {},
   "outputs": [],
   "source": [
    "certa_e = saliency_df.copy().to_dict(orient='list')\n",
    "certa_e['type'] = 'certa'\n",
    "mojito_e = mojito_exp.copy()\n",
    "mojito_e['type'] = 'mojito'\n",
    "land_e = land_exp.copy()\n",
    "land_e['type'] = 'landmark'\n",
    "shap_e = shap_saliency.copy()\n",
    "shap_e['type'] = 'shap'\n",
    "null_e = null_hyp.copy()\n",
    "null_e['type'] = 'null'"
   ]
  },
  {
   "cell_type": "code",
   "execution_count": 560,
   "metadata": {},
   "outputs": [],
   "source": [
    "def eig(explanation, agg=True):\n",
    "    print(explanation)\n",
    "    saliency = explanation.copy()\n",
    "    exp_type = saliency['type']\n",
    "    print(saliency.pop('type'))\n",
    "    scores_d = []\n",
    "    scores_c = []\n",
    "    scores = []\n",
    "    lt = l_tuple.copy()\n",
    "    rt = r_tuple.copy()\n",
    "    row = get_row(lt, rt)\n",
    "    orig = predict_fn(row)[['nomatch_score', 'match_score']].values[0][1]\n",
    "    for tk in np.arange(8):\n",
    "        scores.append(orig)\n",
    "        # get top k important attributes\n",
    "        if not agg and tk >= len(saliency):\n",
    "            break\n",
    "        if exp_type == 'certa':\n",
    "            if agg:\n",
    "                explanation_attributes = sorted(saliency, key=saliency.get, reverse=True)[:tk]\n",
    "            else:\n",
    "                explanation_attributes = [sorted(saliency, key=saliency.get, reverse=True)[tk]]\n",
    "        elif score < 0.5:\n",
    "            saliency = {k:v for k,v in saliency.items() if v < 0}\n",
    "            if agg:\n",
    "                explanation_attributes = sorted(saliency, key=saliency.get)[:tk]\n",
    "            else:\n",
    "                explanation_attributes = [sorted(saliency, key=saliency.get)[tk]]\n",
    "        else:\n",
    "            saliency = {k:v for k,v in saliency.items() if v > 0}\n",
    "            if agg:\n",
    "                explanation_attributes = sorted(saliency, key=saliency.get, reverse=True)[:tk]\n",
    "            else:\n",
    "                explanation_attributes = [sorted(saliency, key=saliency.get, reverse=True)[tk]]\n",
    "        print(explanation_attributes)\n",
    "        # change those attributes\n",
    "        try:\n",
    "            lt = l_tuple.copy()\n",
    "            rt = r_tuple.copy()\n",
    "            modified_row = get_row(lt, rt)\n",
    "            for e in explanation_attributes:\n",
    "                modified_row[e] = ''\n",
    "            modified_tuple_prediction = predict_fn(modified_row)[['nomatch_score', 'match_score']].values[0]\n",
    "            #print(modified_tuple_prediction)\n",
    "            #print(modified_row)\n",
    "            score_drop = modified_tuple_prediction[1]\n",
    "            \n",
    "            scores_d.append(score_drop)\n",
    "        except Exception as e:\n",
    "            print(traceback.format_exc())\n",
    "        try:\n",
    "            lt = l_tuple.copy()\n",
    "            rt = r_tuple.copy()\n",
    "            modified_row = get_row(lt, rt)\n",
    "            for e in explanation_attributes:\n",
    "                if e.startswith(lprefix):\n",
    "                    new_e = e.replace(lprefix, rprefix)\n",
    "                else:\n",
    "                    new_e = e.replace(rprefix, lprefix)\n",
    "                modified_row[e] = modified_row[new_e]\n",
    "            #print(modified_row)\n",
    "            modified_tuple_prediction = predict_fn(modified_row)[['nomatch_score', 'match_score']].values[0]\n",
    "            #print(modified_tuple_prediction)\n",
    "            score_copy = modified_tuple_prediction[1]\n",
    "            scores_c.append(score_copy)\n",
    "        except Exception as e:\n",
    "            print(traceback.format_exc())\n",
    "    pd.Series(scores_d,name='drop').plot(kind='line', ylim=(0.45,0.55), title=exp_type)\n",
    "    #pd.Series(scores_c,name='copy').plot(kind='line', ylim=(0.45,0.55), title=exp_type)\n",
    "    pd.Series(scores,name='pred').plot(kind='line', ylim=(0.45,0.55), title=exp_type)"
   ]
  },
  {
   "cell_type": "code",
   "execution_count": 561,
   "metadata": {},
   "outputs": [
    {
     "name": "stdout",
     "output_type": "stream",
     "text": [
      "{'ltable_title': [0.2857142857142857], 'ltable_manufacturer': [0.2857142857142857], 'ltable_price': [0.2857142857142857], 'rtable_title': [0.9999999999999999], 'rtable_manufacturer': [0.5142857142857142], 'rtable_price': [0.5428571428571428], 'type': 'certa'}\n",
      "certa\n",
      "[]\n",
      "['rtable_title']\n",
      "['rtable_title', 'rtable_price']\n",
      "['rtable_title', 'rtable_price', 'rtable_manufacturer']\n",
      "['rtable_title', 'rtable_price', 'rtable_manufacturer', 'ltable_title']\n",
      "['rtable_title', 'rtable_price', 'rtable_manufacturer', 'ltable_title', 'ltable_manufacturer']\n",
      "['rtable_title', 'rtable_price', 'rtable_manufacturer', 'ltable_title', 'ltable_manufacturer', 'ltable_price']\n",
      "['rtable_title', 'rtable_price', 'rtable_manufacturer', 'ltable_title', 'ltable_manufacturer', 'ltable_price']\n"
     ]
    },
    {
     "data": {
      "image/png": "[encoded data removed]",
      "text/plain": [
       "<Figure size 432x288 with 1 Axes>"
      ]
     },
     "metadata": {
      "needs_background": "light"
     },
     "output_type": "display_data"
    }
   ],
   "source": [
    "eig(certa_e, agg=True)"
   ]
  }
 ],
 "metadata": {
  "kernelspec": {
   "display_name": "Python 3",
   "language": "python",
   "name": "python3"
  },
  "language_info": {
   "codemirror_mode": {
    "name": "ipython",
    "version": 3
   },
   "file_extension": ".py",
   "mimetype": "text/x-python",
   "name": "python",
   "nbconvert_exporter": "python",
   "pygments_lexer": "ipython3",
   "version": "3.6.8"
  }
 },
 "nbformat": 4,
 "nbformat_minor": 4
}
