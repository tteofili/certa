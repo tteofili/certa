{
 "cells": [
  {
   "cell_type": "code",
   "execution_count": 234,
   "metadata": {},
   "outputs": [],
   "source": [
    "import os\n",
    "import traceback\n",
    "\n",
    "import pandas as pd\n",
    "from certa.explain import CertaExplainer\n",
    "from certa.local_explain import get_original_prediction, get_row\n",
    "from certa.utils import merge_sources\n",
    "\n",
    "from baselines.landmark import Landmark\n",
    "from baselines.mojito import Mojito\n",
    "import shap\n",
    "\n",
    "import json\n",
    "import warnings\n",
    "warnings.filterwarnings(\"ignore\")\n",
    "pd.options.display.max_colwidth = 100"
   ]
  },
  {
   "cell_type": "code",
   "execution_count": 516,
   "metadata": {
    "pycharm": {
     "name": "#%%\n"
    }
   },
   "outputs": [],
   "source": [
    "root_datadir = '../cheapER/datasets/'\n",
    "experiments_dir = '../examples/'\n",
    "dataset = 'dirty_dblp_acm'\n",
    "datadir = os.path.join(root_datadir, dataset)"
   ]
  },
  {
   "cell_type": "code",
   "execution_count": 517,
   "metadata": {
    "pycharm": {
     "name": "#%%\n"
    }
   },
   "outputs": [],
   "source": [
    "lsource = pd.read_csv(datadir + '/tableA.csv')\n",
    "rsource = pd.read_csv(datadir + '/tableB.csv')\n",
    "gt = pd.read_csv(datadir + '/train.csv')\n",
    "valid = pd.read_csv(datadir + '/valid.csv')\n",
    "test = pd.read_csv(datadir + '/test.csv')\n",
    "\n",
    "test_df = merge_sources(test, 'ltable_', 'rtable_', lsource, rsource, ['label'], [])\n",
    "train_df = merge_sources(gt, 'ltable_', 'rtable_', lsource, rsource, ['label'], ['id'])"
   ]
  },
  {
   "cell_type": "code",
   "execution_count": 518,
   "metadata": {
    "pycharm": {
     "name": "#%%\n"
    }
   },
   "outputs": [
    {
     "name": "stdout",
     "output_type": "stream",
     "text": [
      "* Costruzione indice degli embeddings.....Fatto. 400001 embeddings totali.\n",
      "* Creazione del modello per il calcolo degli embeddings....\n",
      "* Inizializzo il tokenizzatore.....Fatto: 400001 parole totali.\n",
      "* Preparazione della matrice di embedding.....Fatto. Dimensioni matrice embeddings: (400002, 300)\n",
      "\n",
      "°°° EMBEDDING MODEL °°°\n",
      "Model: \"model\"\n",
      "__________________________________________________________________________________________________\n",
      "Layer (type)                    Output Shape         Param #     Connected to                     \n",
      "==================================================================================================\n",
      "Tupla_A (InputLayer)            [(None, None)]       0                                            \n",
      "__________________________________________________________________________________________________\n",
      "Tupla_B (InputLayer)            [(None, None)]       0                                            \n",
      "__________________________________________________________________________________________________\n",
      "Embedding_lookup (Embedding)    (None, None, 300)    120000600   Tupla_A[0][0]                    \n",
      "                                                                 Tupla_B[0][0]                    \n",
      "==================================================================================================\n",
      "Total params: 120,000,600\n",
      "Trainable params: 0\n",
      "Non-trainable params: 120,000,600\n",
      "__________________________________________________________________________________________________\n",
      "\n",
      "°°° DeepER Model °°°\n",
      "Model: \"model_1\"\n",
      "__________________________________________________________________________________________________\n",
      "Layer (type)                    Output Shape         Param #     Connected to                     \n",
      "==================================================================================================\n",
      "Embeddings_seq_a (InputLayer)   [(None, None, 300)]  0                                            \n",
      "__________________________________________________________________________________________________\n",
      "Embeddings_seq_b (InputLayer)   [(None, None, 300)]  0                                            \n",
      "__________________________________________________________________________________________________\n",
      "Composition (Bidirectional)     (None, 300)          541200      Embeddings_seq_a[0][0]           \n",
      "                                                                 Embeddings_seq_b[0][0]           \n",
      "__________________________________________________________________________________________________\n",
      "Similarity (Lambda)             (None, 300)          0           Composition[0][0]                \n",
      "                                                                 Composition[1][0]                \n",
      "__________________________________________________________________________________________________\n",
      "Dense1 (Dense)                  (None, 300)          90300       Similarity[0][0]                 \n",
      "__________________________________________________________________________________________________\n",
      "Dense2 (Dense)                  (None, 300)          90300       Dense1[0][0]                     \n",
      "__________________________________________________________________________________________________\n",
      "Classification (Dense)          (None, 2)            602         Dense2[0][0]                     \n",
      "==================================================================================================\n",
      "Total params: 722,402\n",
      "Trainable params: 722,402\n",
      "Non-trainable params: 0\n",
      "__________________________________________________________________________________________________\n",
      "working on abt_buy\n",
      "reading data from ../cheapER/datasets/abt_buy\n",
      "data loaded\n",
      "loading model from models/saved/deeper/abt_buy\n"
     ]
    }
   ],
   "source": [
    "from models.utils import get_model\n",
    "model_name = 'ditto'\n",
    "save_path = 'models/saved/' + model_name + '/' + dataset\n",
    "model = get_model(model_name, save_path, datadir, dataset)"
   ]
  },
  {
   "cell_type": "code",
   "execution_count": 519,
   "metadata": {
    "pycharm": {
     "name": "#%%\n"
    }
   },
   "outputs": [
    {
     "name": "stdout",
     "output_type": "stream",
     "text": [
      "* Avvio test metriche....\n",
      "-- Corpus size: 1916\n",
      "-- Non Match: 1710\n",
      "-- Match: 206\n",
      "* Preparazione input......Fatto. 1916 tuple totali, esempio label: 0 -> [1. 0.], Table1 shape: (1916, 79), Table2 shape: (1916, 46)\n",
      "* Evaluating: |\n",
      "Precision: 0.3068181818181818, Recall: 0.13106796116504854, f1-score: 0.1836734693877551\n",
      "Total retrieved: 88, retrieved/total matches: 27/206\n",
      "* Avvio test metriche....\n",
      "-- Corpus size: 1916\n",
      "-- Non Match: 1710\n",
      "-- Match: 206\n",
      "* Preparazione input......Fatto. 1916 tuple totali, esempio label: 0 -> [1. 0.], Table1 shape: (1916, 79), Table2 shape: (1916, 46)\n",
      "* Evaluating: |\n",
      "Precision: 0.6931818181818182, Recall: 0.03567251461988304, f1-score: 0.067853170189099\n",
      "Total retrieved: 88, retrieved/total no_matches: 61/1710\n",
      "0.1836734693877551\n"
     ]
    }
   ],
   "source": [
    "p, r, f1 = model.evaluation(test_df)\n",
    "print(f1)"
   ]
  },
  {
   "cell_type": "code",
   "execution_count": 520,
   "metadata": {},
   "outputs": [],
   "source": [
    "def predict_fn(x):\n",
    "    return model.predict(x)\n",
    "def predict_fn_mojito(x):\n",
    "    return model.predict(x, mojito=True)"
   ]
  },
  {
   "cell_type": "code",
   "execution_count": 521,
   "metadata": {
    "collapsed": false,
    "jupyter": {
     "outputs_hidden": false
    },
    "pycharm": {
     "name": "#%%\n"
    }
   },
   "outputs": [],
   "source": [
    "certa_explainer = CertaExplainer(lsource, rsource)"
   ]
  },
  {
   "cell_type": "code",
   "execution_count": 523,
   "metadata": {
    "pycharm": {
     "name": "#%%\n"
    }
   },
   "outputs": [
    {
     "ename": "ValueError",
     "evalue": "too many values to unpack (expected 2)",
     "output_type": "error",
     "traceback": [
      "\u001b[0;31m---------------------------------------------------------------------------\u001b[0m",
      "\u001b[0;31mValueError\u001b[0m                                Traceback (most recent call last)",
      "\u001b[0;32m<ipython-input-523-c1917f28d075>\u001b[0m in \u001b[0;36m<module>\u001b[0;34m\u001b[0m\n\u001b[0;32m----> 1\u001b[0;31m \u001b[0mpredictions\u001b[0m \u001b[0;34m=\u001b[0m \u001b[0mpredict_fn\u001b[0m\u001b[0;34m(\u001b[0m\u001b[0mtest_df\u001b[0m\u001b[0;34m)\u001b[0m\u001b[0;34m\u001b[0m\u001b[0;34m\u001b[0m\u001b[0m\n\u001b[0m\u001b[1;32m      2\u001b[0m \u001b[0mpredictions\u001b[0m\u001b[0;34m\u001b[0m\u001b[0;34m\u001b[0m\u001b[0m\n",
      "\u001b[0;32m<ipython-input-520-2feea3251fd5>\u001b[0m in \u001b[0;36mpredict_fn\u001b[0;34m(x)\u001b[0m\n\u001b[1;32m      1\u001b[0m \u001b[0;32mdef\u001b[0m \u001b[0mpredict_fn\u001b[0m\u001b[0;34m(\u001b[0m\u001b[0mx\u001b[0m\u001b[0;34m)\u001b[0m\u001b[0;34m:\u001b[0m\u001b[0;34m\u001b[0m\u001b[0;34m\u001b[0m\u001b[0m\n\u001b[0;32m----> 2\u001b[0;31m     \u001b[0;32mreturn\u001b[0m \u001b[0mmodel\u001b[0m\u001b[0;34m.\u001b[0m\u001b[0mpredict\u001b[0m\u001b[0;34m(\u001b[0m\u001b[0mx\u001b[0m\u001b[0;34m)\u001b[0m\u001b[0;34m\u001b[0m\u001b[0;34m\u001b[0m\u001b[0m\n\u001b[0m\u001b[1;32m      3\u001b[0m \u001b[0;32mdef\u001b[0m \u001b[0mpredict_fn_mojito\u001b[0m\u001b[0;34m(\u001b[0m\u001b[0mx\u001b[0m\u001b[0;34m)\u001b[0m\u001b[0;34m:\u001b[0m\u001b[0;34m\u001b[0m\u001b[0;34m\u001b[0m\u001b[0m\n\u001b[1;32m      4\u001b[0m     \u001b[0;32mreturn\u001b[0m \u001b[0mmodel\u001b[0m\u001b[0;34m.\u001b[0m\u001b[0mpredict\u001b[0m\u001b[0;34m(\u001b[0m\u001b[0mx\u001b[0m\u001b[0;34m,\u001b[0m \u001b[0mmojito\u001b[0m\u001b[0;34m=\u001b[0m\u001b[0;32mTrue\u001b[0m\u001b[0;34m)\u001b[0m\u001b[0;34m\u001b[0m\u001b[0;34m\u001b[0m\u001b[0m\n",
      "\u001b[0;32m~/dev/certa/models/DeepER.py\u001b[0m in \u001b[0;36mpredict\u001b[0;34m(self, x, given_columns, mojito, expand_dim, ignore_columns, **kwargs)\u001b[0m\n\u001b[1;32m    530\u001b[0m             \u001b[0mx_index\u001b[0m \u001b[0;34m=\u001b[0m \u001b[0mx\u001b[0m\u001b[0;34m.\u001b[0m\u001b[0mindex\u001b[0m\u001b[0;34m\u001b[0m\u001b[0;34m\u001b[0m\u001b[0m\n\u001b[1;32m    531\u001b[0m             \u001b[0mx_copy\u001b[0m \u001b[0;34m=\u001b[0m \u001b[0mx\u001b[0m\u001b[0;34m.\u001b[0m\u001b[0mcopy\u001b[0m\u001b[0;34m(\u001b[0m\u001b[0;34m)\u001b[0m\u001b[0;34m\u001b[0m\u001b[0;34m\u001b[0m\u001b[0m\n\u001b[0;32m--> 532\u001b[0;31m         \u001b[0mout\u001b[0m \u001b[0;34m=\u001b[0m \u001b[0mpredict\u001b[0m\u001b[0;34m(\u001b[0m\u001b[0mdata\u001b[0m\u001b[0;34m,\u001b[0m \u001b[0mself\u001b[0m\u001b[0;34m.\u001b[0m\u001b[0mmodel\u001b[0m\u001b[0;34m,\u001b[0m \u001b[0mself\u001b[0m\u001b[0;34m.\u001b[0m\u001b[0membeddings_model\u001b[0m\u001b[0;34m,\u001b[0m \u001b[0mself\u001b[0m\u001b[0;34m.\u001b[0m\u001b[0mtokenizer\u001b[0m\u001b[0;34m)\u001b[0m\u001b[0;34m\u001b[0m\u001b[0;34m\u001b[0m\u001b[0m\n\u001b[0m\u001b[1;32m    533\u001b[0m         \u001b[0mout_df\u001b[0m \u001b[0;34m=\u001b[0m \u001b[0mpd\u001b[0m\u001b[0;34m.\u001b[0m\u001b[0mDataFrame\u001b[0m\u001b[0;34m(\u001b[0m\u001b[0mout\u001b[0m\u001b[0;34m,\u001b[0m \u001b[0mcolumns\u001b[0m\u001b[0;34m=\u001b[0m\u001b[0;34m[\u001b[0m\u001b[0;34m'nomatch_score'\u001b[0m\u001b[0;34m,\u001b[0m \u001b[0;34m'match_score'\u001b[0m\u001b[0;34m]\u001b[0m\u001b[0;34m)\u001b[0m\u001b[0;34m\u001b[0m\u001b[0;34m\u001b[0m\u001b[0m\n\u001b[1;32m    534\u001b[0m         \u001b[0mout_df\u001b[0m\u001b[0;34m.\u001b[0m\u001b[0mindex\u001b[0m \u001b[0;34m=\u001b[0m \u001b[0mx_index\u001b[0m\u001b[0;34m\u001b[0m\u001b[0;34m\u001b[0m\u001b[0m\n",
      "\u001b[0;32m~/dev/certa/models/DeepER.py\u001b[0m in \u001b[0;36mpredict\u001b[0;34m(data, model, embeddings_model, tokenizer)\u001b[0m\n\u001b[1;32m    307\u001b[0m \u001b[0;32mdef\u001b[0m \u001b[0mpredict\u001b[0m\u001b[0;34m(\u001b[0m\u001b[0mdata\u001b[0m\u001b[0;34m,\u001b[0m \u001b[0mmodel\u001b[0m\u001b[0;34m,\u001b[0m \u001b[0membeddings_model\u001b[0m\u001b[0;34m,\u001b[0m \u001b[0mtokenizer\u001b[0m\u001b[0;34m)\u001b[0m\u001b[0;34m:\u001b[0m\u001b[0;34m\u001b[0m\u001b[0;34m\u001b[0m\u001b[0m\n\u001b[1;32m    308\u001b[0m     \u001b[0;31m# Crea matrici di tokens e labels\u001b[0m\u001b[0;34m\u001b[0m\u001b[0;34m\u001b[0m\u001b[0;34m\u001b[0m\u001b[0m\n\u001b[0;32m--> 309\u001b[0;31m     \u001b[0mtable1\u001b[0m\u001b[0;34m,\u001b[0m \u001b[0mtable2\u001b[0m \u001b[0;34m=\u001b[0m \u001b[0mdata2InputsUnlabel\u001b[0m\u001b[0;34m(\u001b[0m\u001b[0mdata\u001b[0m\u001b[0;34m,\u001b[0m \u001b[0mtokenizer\u001b[0m\u001b[0;34m)\u001b[0m\u001b[0;34m\u001b[0m\u001b[0;34m\u001b[0m\u001b[0m\n\u001b[0m\u001b[1;32m    310\u001b[0m \u001b[0;34m\u001b[0m\u001b[0m\n\u001b[1;32m    311\u001b[0m     \u001b[0;31m# Calcola inputs di embeddings\u001b[0m\u001b[0;34m\u001b[0m\u001b[0;34m\u001b[0m\u001b[0;34m\u001b[0m\u001b[0m\n",
      "\u001b[0;32m~/dev/certa/models/DeepER.py\u001b[0m in \u001b[0;36mdata2InputsUnlabel\u001b[0;34m(data, tokenizer)\u001b[0m\n\u001b[1;32m    153\u001b[0m     \u001b[0;31m# Tokenizza le tuple e prepara l'input per il modello\u001b[0m\u001b[0;34m\u001b[0m\u001b[0;34m\u001b[0m\u001b[0;34m\u001b[0m\u001b[0m\n\u001b[1;32m    154\u001b[0m     \u001b[0mtable1\u001b[0m\u001b[0;34m,\u001b[0m \u001b[0mtable2\u001b[0m \u001b[0;34m=\u001b[0m \u001b[0;34m[\u001b[0m\u001b[0;34m]\u001b[0m\u001b[0;34m,\u001b[0m \u001b[0;34m[\u001b[0m\u001b[0;34m]\u001b[0m\u001b[0;34m\u001b[0m\u001b[0;34m\u001b[0m\u001b[0m\n\u001b[0;32m--> 155\u001b[0;31m     \u001b[0;32mfor\u001b[0m \u001b[0mt1\u001b[0m\u001b[0;34m,\u001b[0m \u001b[0mt2\u001b[0m \u001b[0;32min\u001b[0m \u001b[0mdata\u001b[0m\u001b[0;34m:\u001b[0m\u001b[0;34m\u001b[0m\u001b[0;34m\u001b[0m\u001b[0m\n\u001b[0m\u001b[1;32m    156\u001b[0m         \u001b[0;31m# Sperimentale: ordino gli attributi per lunghezza decrescente\u001b[0m\u001b[0;34m\u001b[0m\u001b[0;34m\u001b[0m\u001b[0;34m\u001b[0m\u001b[0m\n\u001b[1;32m    157\u001b[0m         \u001b[0;31m# Attributi con molti tokens conengono più informazioni utili\u001b[0m\u001b[0;34m\u001b[0m\u001b[0;34m\u001b[0m\u001b[0;34m\u001b[0m\u001b[0m\n",
      "\u001b[0;31mValueError\u001b[0m: too many values to unpack (expected 2)"
     ]
    }
   ],
   "source": [
    "predictions = model.predict(test_df)\n",
    "predictions"
   ]
  },
  {
   "cell_type": "code",
   "execution_count": null,
   "metadata": {},
   "outputs": [],
   "source": [
    "false_positives = predictions.loc[(predictions['label'] == 0) & (predictions['match_score'] > 0.5)]\n",
    "false_negatives = predictions.loc[(predictions['label'] == 1) & (predictions['match_score'] < 0.5)]"
   ]
  },
  {
   "cell_type": "code",
   "execution_count": null,
   "metadata": {},
   "outputs": [],
   "source": [
    "import seaborn as sns\n",
    "nm_cm = sns.light_palette(\"red\", as_cmap=True)\n",
    "m_cm = sns.light_palette(\"green\", as_cmap=True)\n",
    "cm = sns.light_palette(\"blue\", as_cmap=True)"
   ]
  },
  {
   "cell_type": "code",
   "execution_count": null,
   "metadata": {
    "pycharm": {
     "name": "#%%\n"
    }
   },
   "outputs": [],
   "source": [
    "i = 0\n",
    "rand_row =  false_positives.iloc[i]\n",
    "l_id = int(rand_row['ltable_id'])\n",
    "label = rand_row[\"label\"]\n",
    "l_tuple = lsource.iloc[l_id]\n",
    "r_id = int(rand_row['rtable_id'])\n",
    "r_tuple = rsource.iloc[r_id]\n",
    "rand_row.head()\n",
    "label = rand_row['label']\n",
    "\n",
    "item = get_row(l_tuple, r_tuple)\n",
    "n_item = item.drop(['ltable_id','rtable_id'],axis=1)\n",
    "n_item.reindex(sorted(n_item.columns), axis=1)"
   ]
  },
  {
   "cell_type": "code",
   "execution_count": null,
   "metadata": {
    "pycharm": {
     "name": "#%%\n"
    }
   },
   "outputs": [],
   "source": [
    "original_prediction = false_negatives.iloc[i][['nomatch_score', 'match_score']]\n",
    "original_prediction"
   ]
  },
  {
   "cell_type": "code",
   "execution_count": null,
   "metadata": {
    "pycharm": {
     "name": "#%%\n"
    }
   },
   "outputs": [],
   "source": [
    "score = original_prediction[1]\n",
    "score"
   ]
  },
  {
   "cell_type": "code",
   "execution_count": null,
   "metadata": {},
   "outputs": [],
   "source": [
    "pd.DataFrame(data=[[label, score]], columns=['label','score'])"
   ]
  },
  {
   "cell_type": "code",
   "execution_count": null,
   "metadata": {},
   "outputs": [],
   "source": [
    "pd.DataFrame(l_tuple).T"
   ]
  },
  {
   "cell_type": "code",
   "execution_count": null,
   "metadata": {},
   "outputs": [],
   "source": [
    "pd.DataFrame(r_tuple).T"
   ]
  },
  {
   "cell_type": "code",
   "execution_count": null,
   "metadata": {
    "pycharm": {
     "name": "#%%\n"
    }
   },
   "outputs": [],
   "source": [
    "saliency_df, cf_summary, counterfactual_examples, triangles = certa_explainer.explain(l_tuple, r_tuple, predict_fn, num_triangles=10)"
   ]
  },
  {
   "cell_type": "code",
   "execution_count": null,
   "metadata": {},
   "outputs": [],
   "source": [
    "saliency_df.reindex(sorted(saliency_df.columns), axis=1).style.background_gradient(cmap=cm, axis=1, low=0.1, high=0.6)"
   ]
  },
  {
   "cell_type": "code",
   "execution_count": null,
   "metadata": {},
   "outputs": [],
   "source": [
    "saliency_df.reindex(sorted(saliency_df.columns), axis=1).plot(kind='bar',title='certa')"
   ]
  },
  {
   "cell_type": "code",
   "execution_count": null,
   "metadata": {
    "pycharm": {
     "name": "#%%\n"
    }
   },
   "outputs": [],
   "source": [
    "landmark_explainer = Landmark(lambda x: predict_fn(x)['match_score'].values, test_df,\n",
    "                              lprefix='',\n",
    "                              exclude_attrs=['id', 'ltable_id', 'rtable_id', 'label'],\n",
    "                              rprefix='',\n",
    "                              split_expression=r' ')\n",
    "labelled_item = item.copy()\n",
    "labelled_item['label'] = int(label)\n",
    "labelled_item['id'] = i\n",
    "land_explanation = landmark_explainer.explain(labelled_item)\n",
    "land_exp = land_explanation.groupby('column')['impact'].sum().to_dict()"
   ]
  },
  {
   "cell_type": "code",
   "execution_count": null,
   "metadata": {},
   "outputs": [],
   "source": [
    "pd.DataFrame(data=[land_exp.values()], columns=land_exp.keys()).reindex(sorted(land_exp.keys()), axis=1).style.background_gradient(cmap=cm, axis=1, low=0.2, high=0.6)"
   ]
  },
  {
   "cell_type": "code",
   "execution_count": null,
   "metadata": {},
   "outputs": [],
   "source": [
    "pd.DataFrame(data=[land_exp.values()], columns=land_exp.keys()).reindex(sorted(land_exp.keys()), axis=1).plot(kind='bar',title='landmark')"
   ]
  },
  {
   "cell_type": "code",
   "execution_count": null,
   "metadata": {
    "pycharm": {
     "name": "#%%\n"
    }
   },
   "outputs": [],
   "source": [
    "shap_explainer = shap.KernelExplainer(lambda x: predict_fn(x)['match_score'].values,\n",
    "                                      train_df.drop(['label'], axis=1).astype(str)[:50],\n",
    "                                      link='identity')\n",
    "shap_instance = test_df.iloc[i, 1:].drop(['ltable_id', 'rtable_id']).astype(str)\n",
    "shap_values = shap_explainer.shap_values(shap_instance, nsamples=100)\n",
    "match_shap_values = shap_values\n",
    "shap_saliency = dict()\n",
    "for sv in range(len(match_shap_values)):\n",
    "    shap_saliency[train_df.columns[1 + sv]] = match_shap_values[sv]\n"
   ]
  },
  {
   "cell_type": "code",
   "execution_count": null,
   "metadata": {},
   "outputs": [],
   "source": [
    "pd.DataFrame(data=[shap_saliency.values()], columns=shap_saliency.keys()).reindex(sorted(shap_saliency.keys()), axis=1).style.background_gradient(cmap=cm, axis=1, low=0.2, high=0.6)"
   ]
  },
  {
   "cell_type": "code",
   "execution_count": null,
   "metadata": {},
   "outputs": [],
   "source": [
    "pd.DataFrame(data=[shap_saliency.values()], columns=shap_saliency.keys()).reindex(sorted(shap_saliency.keys()), axis=1).plot(kind='bar',title='shap')"
   ]
  },
  {
   "cell_type": "code",
   "execution_count": null,
   "metadata": {
    "pycharm": {
     "name": "#%%\n"
    }
   },
   "outputs": [],
   "source": [
    "mojito = Mojito(test_df.columns,\n",
    "                attr_to_copy='left',\n",
    "                split_expression=\" \",\n",
    "                class_names=['no_match', 'match'],\n",
    "                lprefix='', rprefix='',\n",
    "                feature_selection='lasso_path')\n",
    "mojito_exp = mojito.drop(predict_fn_mojito, item,\n",
    "                              num_features=30,\n",
    "                              num_perturbation=100)\n",
    "mojito_exp = mojito_exp.groupby('attribute')['weight'].mean().to_dict()\n",
    "for f in item.columns:\n",
    "    if not f in mojito_exp.keys():\n",
    "        mojito_exp[f] = 0\n",
    "if 'id' in mojito_exp:\n",
    "    mojito_exp.pop('id', None)\n",
    "if 'ltable_id' in mojito_exp:\n",
    "    mojito_exp.pop('ltable_id', None)\n",
    "if 'rtable_id' in mojito_exp:\n",
    "    mojito_exp.pop('rtable_id', None)"
   ]
  },
  {
   "cell_type": "code",
   "execution_count": null,
   "metadata": {},
   "outputs": [],
   "source": [
    "pd.DataFrame(data=[mojito_exp.values()], columns=mojito_exp.keys()).reindex(sorted(mojito_exp.keys()), axis=1).style.background_gradient(cmap=cm, axis=1, low=0.2, high=0.6)"
   ]
  },
  {
   "cell_type": "code",
   "execution_count": null,
   "metadata": {},
   "outputs": [],
   "source": [
    "pd.DataFrame(data=[mojito_exp.values()], columns=mojito_exp.keys()).reindex(sorted(mojito_exp.keys()), axis=1).plot(kind='bar',title='mojito')"
   ]
  },
  {
   "cell_type": "code",
   "execution_count": null,
   "metadata": {},
   "outputs": [],
   "source": [
    "import random\n",
    "\n",
    "null_hyp = dict()\n",
    "for r in n_item.columns:\n",
    "    null_hyp[r] = random.uniform(-1, 1)\n",
    "null_hyp_saliency_df = pd.DataFrame(data=[null_hyp.values()], columns=null_hyp.keys())\n",
    "null_hyp_saliency_df.reindex(sorted(null_hyp.keys()), axis=1).style.background_gradient(cmap=cm, axis=1, low=0.2, high=0.6)"
   ]
  },
  {
   "cell_type": "code",
   "execution_count": null,
   "metadata": {},
   "outputs": [],
   "source": [
    "null_hyp_saliency_df.reindex(sorted(null_hyp.keys()), axis=1).plot(kind='bar',title='null')"
   ]
  },
  {
   "cell_type": "code",
   "execution_count": null,
   "metadata": {},
   "outputs": [],
   "source": [
    "certa_e = saliency_df.copy().to_dict(orient='list')\n",
    "certa_e['type'] = 'certa'\n",
    "mojito_e = mojito_exp.copy()\n",
    "mojito_e['type'] = 'mojito'\n",
    "land_e = land_exp.copy()\n",
    "land_e['type'] = 'landmark'\n",
    "shap_e = shap_saliency.copy()\n",
    "shap_e['type'] = 'shap'\n",
    "null_e = null_hyp.copy()\n",
    "null_e['type'] = 'null'"
   ]
  },
  {
   "cell_type": "code",
   "execution_count": null,
   "metadata": {},
   "outputs": [],
   "source": [
    "def eig(explanation, agg=True):\n",
    "    print(explanation)\n",
    "    saliency = explanation.copy()\n",
    "    exp_type = saliency['type']\n",
    "    print(saliency.pop('type'))\n",
    "    scores_d = []\n",
    "    scores_c = []\n",
    "    scores = []\n",
    "    lt = l_tuple.copy()\n",
    "    rt = r_tuple.copy()\n",
    "    row = get_row(lt, rt)\n",
    "    orig = predict_fn(row)[['nomatch_score', 'match_score']].values[0][1]\n",
    "    for tk in np.arange(8):\n",
    "        scores.append(orig)\n",
    "        # get top k important attributes\n",
    "        if not agg and tk >= len(saliency):\n",
    "            break\n",
    "        if exp_type == 'certa':\n",
    "            if agg:\n",
    "                explanation_attributes = sorted(saliency, key=saliency.get, reverse=True)[:tk]\n",
    "            else:\n",
    "                explanation_attributes = [sorted(saliency, key=saliency.get, reverse=True)[tk]]\n",
    "        elif score < 0.5:\n",
    "            saliency = {k:v for k,v in saliency.items() if v < 0}\n",
    "            if agg:\n",
    "                explanation_attributes = sorted(saliency, key=saliency.get)[:tk]\n",
    "            else:\n",
    "                explanation_attributes = [sorted(saliency, key=saliency.get)[tk]]\n",
    "        else:\n",
    "            saliency = {k:v for k,v in saliency.items() if v > 0}\n",
    "            if agg:\n",
    "                explanation_attributes = sorted(saliency, key=saliency.get, reverse=True)[:tk]\n",
    "            else:\n",
    "                explanation_attributes = [sorted(saliency, key=saliency.get, reverse=True)[tk]]\n",
    "        print(explanation_attributes)\n",
    "        # change those attributes\n",
    "        try:\n",
    "            lt = l_tuple.copy()\n",
    "            rt = r_tuple.copy()\n",
    "            modified_row = get_row(lt, rt)\n",
    "            for e in explanation_attributes:\n",
    "                modified_row[e] = ''\n",
    "            modified_tuple_prediction = predict_fn(modified_row)[['nomatch_score', 'match_score']].values[0]\n",
    "            #print(modified_tuple_prediction)\n",
    "            #print(modified_row)\n",
    "            score_drop = modified_tuple_prediction[1]\n",
    "            \n",
    "            scores_d.append(score_drop)\n",
    "        except Exception as e:\n",
    "            print(traceback.format_exc())\n",
    "        try:\n",
    "            lt = l_tuple.copy()\n",
    "            rt = r_tuple.copy()\n",
    "            modified_row = get_row(lt, rt)\n",
    "            for e in explanation_attributes:\n",
    "                if e.startswith(lprefix):\n",
    "                    new_e = e.replace(lprefix, rprefix)\n",
    "                else:\n",
    "                    new_e = e.replace(rprefix, lprefix)\n",
    "                modified_row[e] = modified_row[new_e]\n",
    "            #print(modified_row)\n",
    "            modified_tuple_prediction = predict_fn(modified_row)[['nomatch_score', 'match_score']].values[0]\n",
    "            #print(modified_tuple_prediction)\n",
    "            score_copy = modified_tuple_prediction[1]\n",
    "            scores_c.append(score_copy)\n",
    "        except Exception as e:\n",
    "            print(traceback.format_exc())\n",
    "    pd.Series(scores_d,name='drop').plot(kind='line', ylim=(0.45,0.55), title=exp_type)\n",
    "    #pd.Series(scores_c,name='copy').plot(kind='line', ylim=(0.45,0.55), title=exp_type)\n",
    "    pd.Series(scores,name='pred').plot(kind='line', ylim=(0.45,0.55), title=exp_type)"
   ]
  },
  {
   "cell_type": "code",
   "execution_count": 526,
   "metadata": {},
   "outputs": [
    {
     "name": "stdout",
     "output_type": "stream",
     "text": [
      "{'ltable_title': [0.5338983050847457], 'ltable_authors': [0.49152542372881347], 'ltable_venue': [0.49999999999999994], 'ltable_year': [0.49152542372881347], 'rtable_title': [0.20338983050847462], 'rtable_authors': [0.18644067796610173], 'rtable_venue': [0.18644067796610173], 'rtable_year': [0.18644067796610173], 'type': 'certa'}\n",
      "certa\n",
      "[]\n",
      "['ltable_title']\n",
      "['ltable_title', 'ltable_venue']\n",
      "['ltable_title', 'ltable_venue', 'ltable_authors']\n",
      "['ltable_title', 'ltable_venue', 'ltable_authors', 'ltable_year']\n",
      "['ltable_title', 'ltable_venue', 'ltable_authors', 'ltable_year', 'rtable_title']\n",
      "['ltable_title', 'ltable_venue', 'ltable_authors', 'ltable_year', 'rtable_title', 'rtable_authors']\n",
      "['ltable_title', 'ltable_venue', 'ltable_authors', 'ltable_year', 'rtable_title', 'rtable_authors', 'rtable_venue']\n"
     ]
    },
    {
     "data": {
      "image/png": "[encoded data removed]",
      "text/plain": [
       "<Figure size 432x288 with 1 Axes>"
      ]
     },
     "metadata": {
      "needs_background": "light"
     },
     "output_type": "display_data"
    }
   ],
   "source": [
    "eig(certa_e, agg=True)"
   ]
  }
 ],
 "metadata": {
  "kernelspec": {
   "display_name": "Python 3",
   "language": "python",
   "name": "python3"
  },
  "language_info": {
   "codemirror_mode": {
    "name": "ipython",
    "version": 3
   },
   "file_extension": ".py",
   "mimetype": "text/x-python",
   "name": "python",
   "nbconvert_exporter": "python",
   "pygments_lexer": "ipython3",
   "version": "3.6.8"
  }
 },
 "nbformat": 4,
 "nbformat_minor": 4
}
