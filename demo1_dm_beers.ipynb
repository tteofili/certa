{
 "cells": [
  {
   "cell_type": "code",
   "execution_count": 2,
   "metadata": {
    "colab": {
     "base_uri": "https://localhost:8080/"
    },
    "id": "_rjaliCDWgJk",
    "outputId": "30a683b7-fabc-4355-bc49-718d194675dd"
   },
   "outputs": [
    {
     "name": "stderr",
     "output_type": "stream",
     "text": [
      "[nltk_data] Downloading package punkt to /home/tteofili/nltk_data...\n",
      "[nltk_data]   Package punkt is already up-to-date!\n"
     ]
    }
   ],
   "source": [
    "import os\n",
    "import traceback\n",
    "import random\n",
    "\n",
    "import pandas as pd\n",
    "from certa.explain import CertaExplainer\n",
    "from certa.local_explain import get_original_prediction, get_row\n",
    "from certa.utils import merge_sources\n",
    "\n",
    "from baselines.landmark import Landmark\n",
    "from baselines.mojito import Mojito\n",
    "import shap\n",
    "import dice_ml\n",
    "\n",
    "import pandas as pd\n",
    "from certa.explain import CertaExplainer\n",
    "from models.utils import from_type\n",
    "import numpy as np\n",
    "\n",
    "import json\n",
    "import warnings\n",
    "\n",
    "import nltk\n",
    "nltk.download('punkt')\n",
    "\n",
    "warnings.filterwarnings(\"ignore\")\n",
    "pd.options.display.max_colwidth = 100\n",
    "\n",
    "from IPython.display import display\n",
    "from IPython.display import Image\n",
    "\n",
    "import graphviz\n",
    "import pydotplus"
   ]
  },
  {
   "cell_type": "code",
   "execution_count": 3,
   "metadata": {
    "id": "pF_Tf1WWedPN"
   },
   "outputs": [],
   "source": [
    "import seaborn as sns\n",
    "cm = sns.light_palette(\"blue\", as_cmap=True)"
   ]
  },
  {
   "cell_type": "code",
   "execution_count": 4,
   "metadata": {
    "id": "dNJlSjENW23C"
   },
   "outputs": [],
   "source": [
    "root_datadir = '../cheapER/datasets/'\n",
    "experiments_dir = 'examples/'\n",
    "dataset = 'beers'\n",
    "datadir = os.path.join(root_datadir, dataset)"
   ]
  },
  {
   "cell_type": "code",
   "execution_count": 5,
   "metadata": {
    "id": "ymVWUKZ6W6Ae"
   },
   "outputs": [],
   "source": [
    "lsource = pd.read_csv(datadir + '/tableA.csv')\n",
    "rsource = pd.read_csv(datadir + '/tableB.csv')\n",
    "gt = pd.read_csv(datadir + '/train.csv')\n",
    "valid = pd.read_csv(datadir + '/valid.csv')\n",
    "test = pd.read_csv(datadir + '/test.csv')\n",
    "\n",
    "test_df = merge_sources(test, 'ltable_', 'rtable_', lsource, rsource, ['label'], [])\n",
    "valid_df = merge_sources(valid, 'ltable_', 'rtable_', lsource, rsource, ['label'], [])\n",
    "train_df = merge_sources(gt, 'ltable_', 'rtable_', lsource, rsource, ['label'], ['id'])"
   ]
  },
  {
   "cell_type": "code",
   "execution_count": 6,
   "metadata": {
    "id": "VP9zfQDfW6YC"
   },
   "outputs": [],
   "source": [
    "model_type = 'dm'\n",
    "model = from_type(model_type)\n",
    "save_path = 'models/saved/' + model_type + '/beers'\n",
    "model.load(save_path)"
   ]
  },
  {
   "cell_type": "code",
   "execution_count": 7,
   "metadata": {
    "id": "K2UHi6yOW_Hy"
   },
   "outputs": [],
   "source": [
    "def predict_fn(x):\n",
    "    return model.predict(x)\n",
    "def predict_fn_mojito(x):\n",
    "    return model.predict(x, mojito=True)"
   ]
  },
  {
   "cell_type": "code",
   "execution_count": 8,
   "metadata": {
    "colab": {
     "base_uri": "https://localhost:8080/",
     "height": 659
    },
    "id": "iPLoynwpW_fg",
    "outputId": "bbbbe476-69cc-48b0-94f3-c3b937df6a21"
   },
   "outputs": [
    {
     "data": {
      "text/html": [
       "<div>\n",
       "<style scoped>\n",
       "    .dataframe tbody tr th:only-of-type {\n",
       "        vertical-align: middle;\n",
       "    }\n",
       "\n",
       "    .dataframe tbody tr th {\n",
       "        vertical-align: top;\n",
       "    }\n",
       "\n",
       "    .dataframe thead th {\n",
       "        text-align: right;\n",
       "    }\n",
       "</style>\n",
       "<table border=\"1\" class=\"dataframe\">\n",
       "  <thead>\n",
       "    <tr style=\"text-align: right;\">\n",
       "      <th></th>\n",
       "      <th>label</th>\n",
       "      <th>ltable_ABV</th>\n",
       "      <th>ltable_Beer_Name</th>\n",
       "      <th>ltable_Brew_Factory_Name</th>\n",
       "      <th>ltable_Style</th>\n",
       "      <th>ltable_id</th>\n",
       "      <th>rtable_ABV</th>\n",
       "      <th>rtable_Beer_Name</th>\n",
       "      <th>rtable_Brew_Factory_Name</th>\n",
       "      <th>rtable_Style</th>\n",
       "      <th>rtable_id</th>\n",
       "      <th>nomatch_score</th>\n",
       "      <th>match_score</th>\n",
       "    </tr>\n",
       "  </thead>\n",
       "  <tbody>\n",
       "    <tr>\n",
       "      <th>0</th>\n",
       "      <td>0</td>\n",
       "      <td>8.70 %</td>\n",
       "      <td>Bulleit Bourbon Barrel Aged G'Knight</td>\n",
       "      <td>Oskar Blues Grill &amp; Brew</td>\n",
       "      <td>American Amber / Red Ale</td>\n",
       "      <td>1219.0</td>\n",
       "      <td>-</td>\n",
       "      <td>Figure Eight Bourbon Barrel Aged Jumbo Love</td>\n",
       "      <td>Figure Eight Brewing</td>\n",
       "      <td>Barley Wine</td>\n",
       "      <td>2470.0</td>\n",
       "      <td>0.943249</td>\n",
       "      <td>0.056751</td>\n",
       "    </tr>\n",
       "    <tr>\n",
       "      <th>1</th>\n",
       "      <td>0</td>\n",
       "      <td>8.20 %</td>\n",
       "      <td>Double Dragon Imperial Red Ale</td>\n",
       "      <td>Phillips Brewing Company</td>\n",
       "      <td>American Amber / Red Ale</td>\n",
       "      <td>492.0</td>\n",
       "      <td>7.10 %</td>\n",
       "      <td>Scuttlebutt Mateo Loco Imperial Red Ale</td>\n",
       "      <td>Scuttlebutt Brewing Co. .</td>\n",
       "      <td>American Strong Ale</td>\n",
       "      <td>1635.0</td>\n",
       "      <td>0.975957</td>\n",
       "      <td>0.024043</td>\n",
       "    </tr>\n",
       "    <tr>\n",
       "      <th>2</th>\n",
       "      <td>1</td>\n",
       "      <td>7.40 %</td>\n",
       "      <td>Honey Basil Amber</td>\n",
       "      <td>Rude Hippo Brewing Company</td>\n",
       "      <td>American Amber / Red Ale</td>\n",
       "      <td>3917.0</td>\n",
       "      <td>7.40 %</td>\n",
       "      <td>Rude Hippo Honey Basil Amber</td>\n",
       "      <td>18th Street Brewery</td>\n",
       "      <td>Amber Ale</td>\n",
       "      <td>2224.0</td>\n",
       "      <td>0.183886</td>\n",
       "      <td>0.816114</td>\n",
       "    </tr>\n",
       "    <tr>\n",
       "      <th>3</th>\n",
       "      <td>0</td>\n",
       "      <td>9.70 %</td>\n",
       "      <td>Clifford 's Big Red Ale</td>\n",
       "      <td>Funky Buddha Brewery</td>\n",
       "      <td>American Amber / Red Ale</td>\n",
       "      <td>2155.0</td>\n",
       "      <td>6.50 %</td>\n",
       "      <td>Big Island Red Giant Ale</td>\n",
       "      <td>Big Island Brewhaus</td>\n",
       "      <td>American Strong Ale</td>\n",
       "      <td>2948.0</td>\n",
       "      <td>0.934337</td>\n",
       "      <td>0.065663</td>\n",
       "    </tr>\n",
       "    <tr>\n",
       "      <th>4</th>\n",
       "      <td>1</td>\n",
       "      <td>4.50 %</td>\n",
       "      <td>Real McCoy Amber Ale</td>\n",
       "      <td>Mammoth Brewing Company</td>\n",
       "      <td>American Amber / Red Ale</td>\n",
       "      <td>271.0</td>\n",
       "      <td>4.50 %</td>\n",
       "      <td>Mammoth Real McCoy Amber Ale</td>\n",
       "      <td>Mammoth Brewing Company</td>\n",
       "      <td>Altbier</td>\n",
       "      <td>1410.0</td>\n",
       "      <td>0.501621</td>\n",
       "      <td>0.498379</td>\n",
       "    </tr>\n",
       "    <tr>\n",
       "      <th>...</th>\n",
       "      <td>...</td>\n",
       "      <td>...</td>\n",
       "      <td>...</td>\n",
       "      <td>...</td>\n",
       "      <td>...</td>\n",
       "      <td>...</td>\n",
       "      <td>...</td>\n",
       "      <td>...</td>\n",
       "      <td>...</td>\n",
       "      <td>...</td>\n",
       "      <td>...</td>\n",
       "      <td>...</td>\n",
       "      <td>...</td>\n",
       "    </tr>\n",
       "    <tr>\n",
       "      <th>86</th>\n",
       "      <td>0</td>\n",
       "      <td>5.40 %</td>\n",
       "      <td>Mountain City Amber Ale</td>\n",
       "      <td>Tommyknocker Brewery</td>\n",
       "      <td>American Amber / Red Ale</td>\n",
       "      <td>2115.0</td>\n",
       "      <td>5.20 %</td>\n",
       "      <td>Colorado Mountain Ole 59er Amber Ale</td>\n",
       "      <td>Colorado Mountain Brewery</td>\n",
       "      <td>Amber Ale</td>\n",
       "      <td>77.0</td>\n",
       "      <td>0.898074</td>\n",
       "      <td>0.101926</td>\n",
       "    </tr>\n",
       "    <tr>\n",
       "      <th>87</th>\n",
       "      <td>1</td>\n",
       "      <td>10.00 %</td>\n",
       "      <td>Thomas Hooker Old Marley Barleywine</td>\n",
       "      <td>Thomas Hooker Brewing Company</td>\n",
       "      <td>American Barleywine</td>\n",
       "      <td>4063.0</td>\n",
       "      <td>10 %</td>\n",
       "      <td>Thomas Hooker Old Marley Barleywine</td>\n",
       "      <td>Thomas Hooker Brewing Company</td>\n",
       "      <td>Barley Wine</td>\n",
       "      <td>2331.0</td>\n",
       "      <td>0.423183</td>\n",
       "      <td>0.576817</td>\n",
       "    </tr>\n",
       "    <tr>\n",
       "      <th>88</th>\n",
       "      <td>1</td>\n",
       "      <td>-</td>\n",
       "      <td>Centurion Barleywine Ale</td>\n",
       "      <td>Golden City Brewery</td>\n",
       "      <td>American Barleywine</td>\n",
       "      <td>4161.0</td>\n",
       "      <td>11.20 %</td>\n",
       "      <td>Golden City Centurion Barleywine Ale</td>\n",
       "      <td>Golden City Brewery</td>\n",
       "      <td>Barley Wine</td>\n",
       "      <td>2409.0</td>\n",
       "      <td>0.877802</td>\n",
       "      <td>0.122198</td>\n",
       "    </tr>\n",
       "    <tr>\n",
       "      <th>89</th>\n",
       "      <td>1</td>\n",
       "      <td>6.00 %</td>\n",
       "      <td>Red Ale Priprioca</td>\n",
       "      <td>Cervejaria AmazÃ ´ nia Ltda .</td>\n",
       "      <td>American Amber / Red Ale</td>\n",
       "      <td>862.0</td>\n",
       "      <td>6 %</td>\n",
       "      <td>Amazon Beer Priprioca Red Ale</td>\n",
       "      <td>Amazon Beer</td>\n",
       "      <td>Amber Ale</td>\n",
       "      <td>2906.0</td>\n",
       "      <td>0.830464</td>\n",
       "      <td>0.169536</td>\n",
       "    </tr>\n",
       "    <tr>\n",
       "      <th>90</th>\n",
       "      <td>1</td>\n",
       "      <td>8.00 %</td>\n",
       "      <td>Big Red Balls</td>\n",
       "      <td>Hillcrest Brewing Company</td>\n",
       "      <td>American Amber / Red Ale</td>\n",
       "      <td>2242.0</td>\n",
       "      <td>8 %</td>\n",
       "      <td>Hillcrest Big Red Balls</td>\n",
       "      <td>Hillcrest Brewing Company</td>\n",
       "      <td>Imperial IPA</td>\n",
       "      <td>1048.0</td>\n",
       "      <td>0.395624</td>\n",
       "      <td>0.604376</td>\n",
       "    </tr>\n",
       "  </tbody>\n",
       "</table>\n",
       "<p>91 rows × 13 columns</p>\n",
       "</div>"
      ],
      "text/plain": [
       "   label ltable_ABV                      ltable_Beer_Name  \\\n",
       "0      0     8.70 %  Bulleit Bourbon Barrel Aged G'Knight   \n",
       "1      0     8.20 %        Double Dragon Imperial Red Ale   \n",
       "2      1     7.40 %                     Honey Basil Amber   \n",
       "3      0     9.70 %               Clifford 's Big Red Ale   \n",
       "4      1     4.50 %                  Real McCoy Amber Ale   \n",
       "..   ...        ...                                   ...   \n",
       "86     0     5.40 %               Mountain City Amber Ale   \n",
       "87     1    10.00 %   Thomas Hooker Old Marley Barleywine   \n",
       "88     1          -              Centurion Barleywine Ale   \n",
       "89     1     6.00 %                     Red Ale Priprioca   \n",
       "90     1     8.00 %                         Big Red Balls   \n",
       "\n",
       "         ltable_Brew_Factory_Name              ltable_Style  ltable_id  \\\n",
       "0        Oskar Blues Grill & Brew  American Amber / Red Ale     1219.0   \n",
       "1        Phillips Brewing Company  American Amber / Red Ale      492.0   \n",
       "2      Rude Hippo Brewing Company  American Amber / Red Ale     3917.0   \n",
       "3            Funky Buddha Brewery  American Amber / Red Ale     2155.0   \n",
       "4         Mammoth Brewing Company  American Amber / Red Ale      271.0   \n",
       "..                            ...                       ...        ...   \n",
       "86           Tommyknocker Brewery  American Amber / Red Ale     2115.0   \n",
       "87  Thomas Hooker Brewing Company       American Barleywine     4063.0   \n",
       "88            Golden City Brewery       American Barleywine     4161.0   \n",
       "89  Cervejaria AmazÃ ´ nia Ltda .  American Amber / Red Ale      862.0   \n",
       "90      Hillcrest Brewing Company  American Amber / Red Ale     2242.0   \n",
       "\n",
       "   rtable_ABV                             rtable_Beer_Name  \\\n",
       "0           -  Figure Eight Bourbon Barrel Aged Jumbo Love   \n",
       "1      7.10 %      Scuttlebutt Mateo Loco Imperial Red Ale   \n",
       "2      7.40 %                 Rude Hippo Honey Basil Amber   \n",
       "3      6.50 %                     Big Island Red Giant Ale   \n",
       "4      4.50 %                 Mammoth Real McCoy Amber Ale   \n",
       "..        ...                                          ...   \n",
       "86     5.20 %         Colorado Mountain Ole 59er Amber Ale   \n",
       "87       10 %          Thomas Hooker Old Marley Barleywine   \n",
       "88    11.20 %         Golden City Centurion Barleywine Ale   \n",
       "89        6 %                Amazon Beer Priprioca Red Ale   \n",
       "90        8 %                      Hillcrest Big Red Balls   \n",
       "\n",
       "         rtable_Brew_Factory_Name         rtable_Style  rtable_id  \\\n",
       "0            Figure Eight Brewing          Barley Wine     2470.0   \n",
       "1       Scuttlebutt Brewing Co. .  American Strong Ale     1635.0   \n",
       "2             18th Street Brewery            Amber Ale     2224.0   \n",
       "3             Big Island Brewhaus  American Strong Ale     2948.0   \n",
       "4         Mammoth Brewing Company              Altbier     1410.0   \n",
       "..                            ...                  ...        ...   \n",
       "86      Colorado Mountain Brewery            Amber Ale       77.0   \n",
       "87  Thomas Hooker Brewing Company          Barley Wine     2331.0   \n",
       "88            Golden City Brewery          Barley Wine     2409.0   \n",
       "89                    Amazon Beer            Amber Ale     2906.0   \n",
       "90      Hillcrest Brewing Company         Imperial IPA     1048.0   \n",
       "\n",
       "    nomatch_score  match_score  \n",
       "0        0.943249     0.056751  \n",
       "1        0.975957     0.024043  \n",
       "2        0.183886     0.816114  \n",
       "3        0.934337     0.065663  \n",
       "4        0.501621     0.498379  \n",
       "..            ...          ...  \n",
       "86       0.898074     0.101926  \n",
       "87       0.423183     0.576817  \n",
       "88       0.877802     0.122198  \n",
       "89       0.830464     0.169536  \n",
       "90       0.395624     0.604376  \n",
       "\n",
       "[91 rows x 13 columns]"
      ]
     },
     "execution_count": 8,
     "metadata": {},
     "output_type": "execute_result"
    }
   ],
   "source": [
    "predictions = model.predict(test_df)\n",
    "predictions"
   ]
  },
  {
   "cell_type": "code",
   "execution_count": 9,
   "metadata": {
    "id": "culV7GxLXI7U"
   },
   "outputs": [],
   "source": [
    "false_positives = predictions.loc[(predictions['label'] == 0) & (predictions['match_score'] > 0.5)]\n",
    "false_negatives = predictions.loc[(predictions['label'] == 1) & (predictions['match_score'] < 0.5)]\n",
    "true_positives = predictions.loc[(predictions['label'] == 1) & (predictions['match_score'] > 0.5)]\n",
    "true_negatives = predictions.loc[(predictions['label'] == 0) & (predictions['match_score'] < 0.5)]"
   ]
  },
  {
   "cell_type": "code",
   "execution_count": 10,
   "metadata": {
    "id": "3dRMDH1KYlWe"
   },
   "outputs": [],
   "source": [
    "certa_explainer = CertaExplainer(lsource, rsource)"
   ]
  },
  {
   "cell_type": "code",
   "execution_count": 11,
   "metadata": {
    "colab": {
     "base_uri": "https://localhost:8080/",
     "height": 80
    },
    "id": "bFexa3OMdSA5",
    "outputId": "afd0d55b-e7f6-492e-ed73-0547ccb1b580"
   },
   "outputs": [
    {
     "data": {
      "text/plain": [
       "label                                                    0\n",
       "ltable_ABV                                          8.20 %\n",
       "ltable_Beer_Name            Double Dragon Imperial Red Ale\n",
       "ltable_Brew_Factory_Name          Phillips Brewing Company\n",
       "ltable_Style                      American Amber / Red Ale\n",
       "Name: 1, dtype: object"
      ]
     },
     "execution_count": 11,
     "metadata": {},
     "output_type": "execute_result"
    }
   ],
   "source": [
    "i = 1\n",
    "rand_row =  test_df.iloc[i]\n",
    "l_id = int(rand_row['ltable_id'])\n",
    "label = rand_row[\"label\"]\n",
    "l_tuple = lsource.iloc[l_id]\n",
    "r_id = int(rand_row['rtable_id'])\n",
    "r_tuple = rsource.iloc[r_id]\n",
    "rand_row.head()"
   ]
  },
  {
   "cell_type": "code",
   "execution_count": 12,
   "metadata": {
    "collapsed": false,
    "jupyter": {
     "outputs_hidden": false
    },
    "pycharm": {
     "name": "#%%\n"
    }
   },
   "outputs": [
    {
     "data": {
      "text/plain": [
       "0"
      ]
     },
     "execution_count": 12,
     "metadata": {},
     "output_type": "execute_result"
    }
   ],
   "source": [
    "label = rand_row['label']\n",
    "label"
   ]
  },
  {
   "cell_type": "code",
   "execution_count": 13,
   "metadata": {
    "colab": {
     "base_uri": "https://localhost:8080/"
    },
    "id": "XUEdEu9kdcVo",
    "outputId": "9c3db37d-c68c-43e0-9c20-9220c74e92db"
   },
   "outputs": [
    {
     "data": {
      "text/html": [
       "<div>\n",
       "<style scoped>\n",
       "    .dataframe tbody tr th:only-of-type {\n",
       "        vertical-align: middle;\n",
       "    }\n",
       "\n",
       "    .dataframe tbody tr th {\n",
       "        vertical-align: top;\n",
       "    }\n",
       "\n",
       "    .dataframe thead th {\n",
       "        text-align: right;\n",
       "    }\n",
       "</style>\n",
       "<table border=\"1\" class=\"dataframe\">\n",
       "  <thead>\n",
       "    <tr style=\"text-align: right;\">\n",
       "      <th></th>\n",
       "      <th>ltable_ABV</th>\n",
       "      <th>ltable_Beer_Name</th>\n",
       "      <th>ltable_Brew_Factory_Name</th>\n",
       "      <th>ltable_Style</th>\n",
       "      <th>rtable_ABV</th>\n",
       "      <th>rtable_Beer_Name</th>\n",
       "      <th>rtable_Brew_Factory_Name</th>\n",
       "      <th>rtable_Style</th>\n",
       "    </tr>\n",
       "  </thead>\n",
       "  <tbody>\n",
       "    <tr>\n",
       "      <th>0</th>\n",
       "      <td>8.20 %</td>\n",
       "      <td>Double Dragon Imperial Red Ale</td>\n",
       "      <td>Phillips Brewing Company</td>\n",
       "      <td>American Amber / Red Ale</td>\n",
       "      <td>7.10 %</td>\n",
       "      <td>Scuttlebutt Mateo Loco Imperial Red Ale</td>\n",
       "      <td>Scuttlebutt Brewing Co. .</td>\n",
       "      <td>American Strong Ale</td>\n",
       "    </tr>\n",
       "  </tbody>\n",
       "</table>\n",
       "</div>"
      ],
      "text/plain": [
       "  ltable_ABV                ltable_Beer_Name  ltable_Brew_Factory_Name  \\\n",
       "0     8.20 %  Double Dragon Imperial Red Ale  Phillips Brewing Company   \n",
       "\n",
       "               ltable_Style rtable_ABV  \\\n",
       "0  American Amber / Red Ale     7.10 %   \n",
       "\n",
       "                          rtable_Beer_Name   rtable_Brew_Factory_Name  \\\n",
       "0  Scuttlebutt Mateo Loco Imperial Red Ale  Scuttlebutt Brewing Co. .   \n",
       "\n",
       "          rtable_Style  \n",
       "0  American Strong Ale  "
      ]
     },
     "execution_count": 13,
     "metadata": {},
     "output_type": "execute_result"
    }
   ],
   "source": [
    "item = get_row(l_tuple, r_tuple)\n",
    "n_item = item.drop(['ltable_id','rtable_id'],axis=1)\n",
    "n_item.reindex(sorted(n_item.columns), axis=1)"
   ]
  },
  {
   "cell_type": "code",
   "execution_count": 23,
   "metadata": {
    "id": "nlLNKSf0XN1F"
   },
   "outputs": [
    {
     "name": "stderr",
     "output_type": "stream",
     "text": [
      "WARNING:root:could find 24 triangles of the 100 requested\n"
     ]
    }
   ],
   "source": [
    "saliency_df, pss, counterfactual_examples, triangles, lattices = certa_explainer.explain(l_tuple, r_tuple, predict_fn, debug=True)"
   ]
  },
  {
   "cell_type": "code",
   "execution_count": 15,
   "metadata": {},
   "outputs": [
    {
     "data": {
      "text/plain": [
       "rtable_Beer_Name                                          0.166667\n",
       "rtable_Brew_Factory_Name                                  0.000000\n",
       "rtable_Style                                              0.000000\n",
       "rtable_ABV                                                0.000000\n",
       "ltable_Beer_Name                                          0.125000\n",
       "ltable_Brew_Factory_Name                                  0.000000\n",
       "ltable_Style                                              0.000000\n",
       "ltable_ABV                                                0.000000\n",
       "rtable_Beer_Name/rtable_Brew_Factory_Name                 0.166667\n",
       "rtable_Beer_Name/rtable_Style                             0.375000\n",
       "rtable_Beer_Name/rtable_ABV                               0.125000\n",
       "rtable_Brew_Factory_Name/rtable_Style                     0.000000\n",
       "rtable_Brew_Factory_Name/rtable_ABV                       0.000000\n",
       "rtable_Style/rtable_ABV                                   0.000000\n",
       "ltable_Beer_Name/ltable_Brew_Factory_Name                 0.125000\n",
       "ltable_Beer_Name/ltable_Style                             0.125000\n",
       "ltable_Beer_Name/ltable_ABV                               0.500000\n",
       "ltable_Brew_Factory_Name/ltable_Style                     0.000000\n",
       "ltable_Brew_Factory_Name/ltable_ABV                       0.000000\n",
       "ltable_Style/ltable_ABV                                   0.000000\n",
       "rtable_Beer_Name/rtable_Brew_Factory_Name/rtable_Style    0.416667\n",
       "rtable_Beer_Name/rtable_Brew_Factory_Name/rtable_ABV      0.208333\n",
       "rtable_Beer_Name/rtable_Style/rtable_ABV                  0.458333\n",
       "rtable_Brew_Factory_Name/rtable_Style/rtable_ABV          0.000000\n",
       "ltable_Beer_Name/ltable_Brew_Factory_Name/ltable_Style    0.125000\n",
       "ltable_Beer_Name/ltable_Brew_Factory_Name/ltable_ABV      0.500000\n",
       "ltable_Beer_Name/ltable_Style/ltable_ABV                  0.500000\n",
       "ltable_Brew_Factory_Name/ltable_Style/ltable_ABV          0.000000\n",
       "dtype: float64"
      ]
     },
     "execution_count": 15,
     "metadata": {},
     "output_type": "execute_result"
    }
   ],
   "source": [
    "pss.T"
   ]
  },
  {
   "cell_type": "code",
   "execution_count": 16,
   "metadata": {
    "colab": {
     "base_uri": "https://localhost:8080/",
     "height": 80
    },
    "id": "RxSTS5uMeQKe",
    "outputId": "03c1cb6c-f684-4441-dd90-0b5058683023"
   },
   "outputs": [
    {
     "data": {
      "text/html": [
       "<style  type=\"text/css\" >\n",
       "#T_1564cdbe_a3a4_11ec_b7f1_24418c396bddrow0_col0{\n",
       "            background-color:  #8787ff;\n",
       "            color:  #000000;\n",
       "        }#T_1564cdbe_a3a4_11ec_b7f1_24418c396bddrow0_col1{\n",
       "            background-color:  #5151ff;\n",
       "            color:  #f1f1f1;\n",
       "        }#T_1564cdbe_a3a4_11ec_b7f1_24418c396bddrow0_col2,#T_1564cdbe_a3a4_11ec_b7f1_24418c396bddrow0_col3{\n",
       "            background-color:  #d8d8ff;\n",
       "            color:  #000000;\n",
       "        }#T_1564cdbe_a3a4_11ec_b7f1_24418c396bddrow0_col4,#T_1564cdbe_a3a4_11ec_b7f1_24418c396bddrow0_col6{\n",
       "            background-color:  #d3d3ff;\n",
       "            color:  #000000;\n",
       "        }#T_1564cdbe_a3a4_11ec_b7f1_24418c396bddrow0_col5{\n",
       "            background-color:  #5a5aff;\n",
       "            color:  #f1f1f1;\n",
       "        }#T_1564cdbe_a3a4_11ec_b7f1_24418c396bddrow0_col7{\n",
       "            background-color:  #a2a2ff;\n",
       "            color:  #000000;\n",
       "        }</style><table id=\"T_1564cdbe_a3a4_11ec_b7f1_24418c396bdd\" ><thead>    <tr>        <th class=\"blank level0\" ></th>        <th class=\"col_heading level0 col0\" >ltable_ABV</th>        <th class=\"col_heading level0 col1\" >ltable_Beer_Name</th>        <th class=\"col_heading level0 col2\" >ltable_Brew_Factory_Name</th>        <th class=\"col_heading level0 col3\" >ltable_Style</th>        <th class=\"col_heading level0 col4\" >rtable_ABV</th>        <th class=\"col_heading level0 col5\" >rtable_Beer_Name</th>        <th class=\"col_heading level0 col6\" >rtable_Brew_Factory_Name</th>        <th class=\"col_heading level0 col7\" >rtable_Style</th>    </tr></thead><tbody>\n",
       "                <tr>\n",
       "                        <th id=\"T_1564cdbe_a3a4_11ec_b7f1_24418c396bddlevel0_row0\" class=\"row_heading level0 row0\" >0</th>\n",
       "                        <td id=\"T_1564cdbe_a3a4_11ec_b7f1_24418c396bddrow0_col0\" class=\"data row0 col0\" >0.508475</td>\n",
       "                        <td id=\"T_1564cdbe_a3a4_11ec_b7f1_24418c396bddrow0_col1\" class=\"data row0 col1\" >0.610169</td>\n",
       "                        <td id=\"T_1564cdbe_a3a4_11ec_b7f1_24418c396bddrow0_col2\" class=\"data row0 col2\" >0.355932</td>\n",
       "                        <td id=\"T_1564cdbe_a3a4_11ec_b7f1_24418c396bddrow0_col3\" class=\"data row0 col3\" >0.355932</td>\n",
       "                        <td id=\"T_1564cdbe_a3a4_11ec_b7f1_24418c396bddrow0_col4\" class=\"data row0 col4\" >0.364407</td>\n",
       "                        <td id=\"T_1564cdbe_a3a4_11ec_b7f1_24418c396bddrow0_col5\" class=\"data row0 col5\" >0.593220</td>\n",
       "                        <td id=\"T_1564cdbe_a3a4_11ec_b7f1_24418c396bddrow0_col6\" class=\"data row0 col6\" >0.364407</td>\n",
       "                        <td id=\"T_1564cdbe_a3a4_11ec_b7f1_24418c396bddrow0_col7\" class=\"data row0 col7\" >0.457627</td>\n",
       "            </tr>\n",
       "    </tbody></table>"
      ],
      "text/plain": [
       "<pandas.io.formats.style.Styler at 0x7f3884cfe320>"
      ]
     },
     "execution_count": 16,
     "metadata": {},
     "output_type": "execute_result"
    }
   ],
   "source": [
    "saliency_df.reindex(sorted(saliency_df.columns), axis=1).style.background_gradient(cmap=cm, axis=1, low=0.1, high=0.6)"
   ]
  },
  {
   "cell_type": "code",
   "execution_count": 17,
   "metadata": {},
   "outputs": [
    {
     "data": {
      "text/html": [
       "<style  type=\"text/css\" >\n",
       "#T_15681708_a3a4_11ec_b7f1_24418c396bddrow0_col0,#T_15681708_a3a4_11ec_b7f1_24418c396bddrow0_col2{\n",
       "            background-color:  #d8d8ff;\n",
       "            color:  #000000;\n",
       "        }#T_15681708_a3a4_11ec_b7f1_24418c396bddrow0_col1{\n",
       "            background-color:  #5151ff;\n",
       "            color:  #f1f1f1;\n",
       "        }#T_15681708_a3a4_11ec_b7f1_24418c396bddrow0_col3{\n",
       "            background-color:  #8787ff;\n",
       "            color:  #000000;\n",
       "        }#T_15681708_a3a4_11ec_b7f1_24418c396bddrow0_col4,#T_15681708_a3a4_11ec_b7f1_24418c396bddrow0_col7{\n",
       "            background-color:  #d3d3ff;\n",
       "            color:  #000000;\n",
       "        }#T_15681708_a3a4_11ec_b7f1_24418c396bddrow0_col5{\n",
       "            background-color:  #5a5aff;\n",
       "            color:  #f1f1f1;\n",
       "        }#T_15681708_a3a4_11ec_b7f1_24418c396bddrow0_col6{\n",
       "            background-color:  #a2a2ff;\n",
       "            color:  #000000;\n",
       "        }</style><table id=\"T_15681708_a3a4_11ec_b7f1_24418c396bdd\" ><thead>    <tr>        <th class=\"blank level0\" ></th>        <th class=\"col_heading level0 col0\" >left_ABV</th>        <th class=\"col_heading level0 col1\" >left_Beer</th>        <th class=\"col_heading level0 col2\" >left_Factory</th>        <th class=\"col_heading level0 col3\" >left_Style</th>        <th class=\"col_heading level0 col4\" >right_ABV</th>        <th class=\"col_heading level0 col5\" >right_Beer</th>        <th class=\"col_heading level0 col6\" >right_Factory</th>        <th class=\"col_heading level0 col7\" >right_Style</th>    </tr></thead><tbody>\n",
       "                <tr>\n",
       "                        <th id=\"T_15681708_a3a4_11ec_b7f1_24418c396bddlevel0_row0\" class=\"row_heading level0 row0\" >0</th>\n",
       "                        <td id=\"T_15681708_a3a4_11ec_b7f1_24418c396bddrow0_col0\" class=\"data row0 col0\" >0.355932</td>\n",
       "                        <td id=\"T_15681708_a3a4_11ec_b7f1_24418c396bddrow0_col1\" class=\"data row0 col1\" >0.610169</td>\n",
       "                        <td id=\"T_15681708_a3a4_11ec_b7f1_24418c396bddrow0_col2\" class=\"data row0 col2\" >0.355932</td>\n",
       "                        <td id=\"T_15681708_a3a4_11ec_b7f1_24418c396bddrow0_col3\" class=\"data row0 col3\" >0.508475</td>\n",
       "                        <td id=\"T_15681708_a3a4_11ec_b7f1_24418c396bddrow0_col4\" class=\"data row0 col4\" >0.364407</td>\n",
       "                        <td id=\"T_15681708_a3a4_11ec_b7f1_24418c396bddrow0_col5\" class=\"data row0 col5\" >0.593220</td>\n",
       "                        <td id=\"T_15681708_a3a4_11ec_b7f1_24418c396bddrow0_col6\" class=\"data row0 col6\" >0.457627</td>\n",
       "                        <td id=\"T_15681708_a3a4_11ec_b7f1_24418c396bddrow0_col7\" class=\"data row0 col7\" >0.364407</td>\n",
       "            </tr>\n",
       "    </tbody></table>"
      ],
      "text/plain": [
       "<pandas.io.formats.style.Styler at 0x7f38855852e8>"
      ]
     },
     "execution_count": 17,
     "metadata": {},
     "output_type": "execute_result"
    }
   ],
   "source": [
    "sdfc = saliency_df.copy()\n",
    "sdfc.columns=['left_Beer', 'left_ABV', 'left_Factory', 'left_Style', 'right_Beer', 'right_ABV',  'right_Factory', 'right_Style']\n",
    "sdfc.reindex(sorted(sdfc.columns), axis=1).style.background_gradient(cmap=cm, axis=1, low=0.1, high=0.6)"
   ]
  },
  {
   "cell_type": "code",
   "execution_count": 18,
   "metadata": {
    "colab": {
     "base_uri": "https://localhost:8080/",
     "height": 548
    },
    "id": "cpVv8_oadcxD",
    "outputId": "104c562a-d3b0-4f2f-fcea-7b658c2856f3"
   },
   "outputs": [
    {
     "data": {
      "text/html": [
       "<div>\n",
       "<style scoped>\n",
       "    .dataframe tbody tr th:only-of-type {\n",
       "        vertical-align: middle;\n",
       "    }\n",
       "\n",
       "    .dataframe tbody tr th {\n",
       "        vertical-align: top;\n",
       "    }\n",
       "\n",
       "    .dataframe thead th {\n",
       "        text-align: right;\n",
       "    }\n",
       "</style>\n",
       "<table border=\"1\" class=\"dataframe\">\n",
       "  <thead>\n",
       "    <tr style=\"text-align: right;\">\n",
       "      <th></th>\n",
       "      <th>ltable_Beer_Name</th>\n",
       "      <th>ltable_Brew_Factory_Name</th>\n",
       "      <th>ltable_Style</th>\n",
       "      <th>ltable_ABV</th>\n",
       "      <th>rtable_Beer_Name</th>\n",
       "      <th>rtable_Brew_Factory_Name</th>\n",
       "      <th>rtable_Style</th>\n",
       "      <th>rtable_ABV</th>\n",
       "      <th>nomatch_score</th>\n",
       "      <th>match_score</th>\n",
       "      <th>alteredAttributes</th>\n",
       "      <th>droppedValues</th>\n",
       "      <th>copiedValues</th>\n",
       "      <th>triangle</th>\n",
       "      <th>attr_count</th>\n",
       "    </tr>\n",
       "  </thead>\n",
       "  <tbody>\n",
       "    <tr>\n",
       "      <th>23</th>\n",
       "      <td>Mateo Loco</td>\n",
       "      <td>Phillips Brewing Company</td>\n",
       "      <td>American Amber / Red Ale</td>\n",
       "      <td>10.00 %</td>\n",
       "      <td>Scuttlebutt Mateo Loco Imperial Red Ale</td>\n",
       "      <td>Scuttlebutt Brewing Co. .</td>\n",
       "      <td>American Strong Ale</td>\n",
       "      <td>7.10 %</td>\n",
       "      <td>0.3467586040496826</td>\n",
       "      <td>0.6532413959503174</td>\n",
       "      <td>('ltable_Beer_Name', 'ltable_ABV')</td>\n",
       "      <td>['Double Dragon Imperial Red Ale', '8.20 %']</td>\n",
       "      <td>['Mateo Loco', '10.00 %']</td>\n",
       "      <td>0@64023 1@1635 0@492</td>\n",
       "      <td>2</td>\n",
       "    </tr>\n",
       "    <tr>\n",
       "      <th>28</th>\n",
       "      <td>Scuttlebutt Amber</td>\n",
       "      <td>Phillips Brewing Company</td>\n",
       "      <td>American Amber / Red Ale</td>\n",
       "      <td>5.10 %</td>\n",
       "      <td>Scuttlebutt Mateo Loco Imperial Red Ale</td>\n",
       "      <td>Scuttlebutt Brewing Co. .</td>\n",
       "      <td>American Strong Ale</td>\n",
       "      <td>7.10 %</td>\n",
       "      <td>0.39407283067703247</td>\n",
       "      <td>0.6059271693229675</td>\n",
       "      <td>('ltable_Beer_Name', 'ltable_ABV')</td>\n",
       "      <td>['Double Dragon Imperial Red Ale', '8.20 %']</td>\n",
       "      <td>['Scuttlebutt Amber', '5.10 %']</td>\n",
       "      <td>0@214 1@1635 0@492</td>\n",
       "      <td>2</td>\n",
       "    </tr>\n",
       "    <tr>\n",
       "      <th>38</th>\n",
       "      <td>First</td>\n",
       "      <td>Phillips Brewing Company</td>\n",
       "      <td>American Amber / Red Ale</td>\n",
       "      <td>5.10 %</td>\n",
       "      <td>Scuttlebutt Mateo Loco Imperial Red Ale</td>\n",
       "      <td>Scuttlebutt Brewing Co. .</td>\n",
       "      <td>American Strong Ale</td>\n",
       "      <td>7.10 %</td>\n",
       "      <td>0.3203560709953308</td>\n",
       "      <td>0.6796439290046692</td>\n",
       "      <td>('ltable_Beer_Name', 'ltable_ABV')</td>\n",
       "      <td>['Double Dragon Imperial Red Ale', '8.20 %']</td>\n",
       "      <td>['First', '5.10 %']</td>\n",
       "      <td>0@78172 1@1635 0@492</td>\n",
       "      <td>2</td>\n",
       "    </tr>\n",
       "    <tr>\n",
       "      <th>39</th>\n",
       "      <td>Capone</td>\n",
       "      <td>Phillips Brewing Company</td>\n",
       "      <td>American Amber / Red Ale</td>\n",
       "      <td>8.10 %</td>\n",
       "      <td>Scuttlebutt Mateo Loco Imperial Red Ale</td>\n",
       "      <td>Scuttlebutt Brewing Co. .</td>\n",
       "      <td>American Strong Ale</td>\n",
       "      <td>7.10 %</td>\n",
       "      <td>0.46519625186920166</td>\n",
       "      <td>0.5348037481307983</td>\n",
       "      <td>('ltable_Beer_Name', 'ltable_ABV')</td>\n",
       "      <td>['Double Dragon Imperial Red Ale', '8.20 %']</td>\n",
       "      <td>['Capone', '8.10 %']</td>\n",
       "      <td>0@79567 1@1635 0@492</td>\n",
       "      <td>2</td>\n",
       "    </tr>\n",
       "    <tr>\n",
       "      <th>20</th>\n",
       "      <td>Bushwacker</td>\n",
       "      <td>Phillips Brewing Company</td>\n",
       "      <td>American Amber / Red Ale</td>\n",
       "      <td>7.10 %</td>\n",
       "      <td>Scuttlebutt Mateo Loco Imperial Red Ale</td>\n",
       "      <td>Scuttlebutt Brewing Co. .</td>\n",
       "      <td>American Strong Ale</td>\n",
       "      <td>7.10 %</td>\n",
       "      <td>0.40385961532592773</td>\n",
       "      <td>0.5961403846740723</td>\n",
       "      <td>('ltable_Beer_Name', 'ltable_ABV')</td>\n",
       "      <td>['Double Dragon Imperial Red Ale', '8.20 %']</td>\n",
       "      <td>['Bushwacker', '7.10 %']</td>\n",
       "      <td>0@987 1@1635 0@492</td>\n",
       "      <td>2</td>\n",
       "    </tr>\n",
       "    <tr>\n",
       "      <th>9</th>\n",
       "      <td>Red</td>\n",
       "      <td>Phillips Brewing Company</td>\n",
       "      <td>American Amber / Red Ale</td>\n",
       "      <td>4.10 %</td>\n",
       "      <td>Scuttlebutt Mateo Loco Imperial Red Ale</td>\n",
       "      <td>Scuttlebutt Brewing Co. .</td>\n",
       "      <td>American Strong Ale</td>\n",
       "      <td>7.10 %</td>\n",
       "      <td>0.3887726664543152</td>\n",
       "      <td>0.6112273335456848</td>\n",
       "      <td>('ltable_Beer_Name', 'ltable_ABV')</td>\n",
       "      <td>['Double Dragon Imperial Red Ale', '8.20 %']</td>\n",
       "      <td>['Red', '4.10 %']</td>\n",
       "      <td>0@16303 1@1635 0@492</td>\n",
       "      <td>2</td>\n",
       "    </tr>\n",
       "    <tr>\n",
       "      <th>18</th>\n",
       "      <td>Oho-Rojo</td>\n",
       "      <td>Phillips Brewing Company</td>\n",
       "      <td>American Amber / Red Ale</td>\n",
       "      <td>6.10 %</td>\n",
       "      <td>Scuttlebutt Mateo Loco Imperial Red Ale</td>\n",
       "      <td>Scuttlebutt Brewing Co. .</td>\n",
       "      <td>American Strong Ale</td>\n",
       "      <td>7.10 %</td>\n",
       "      <td>0.2519966959953308</td>\n",
       "      <td>0.7480033040046692</td>\n",
       "      <td>('ltable_Beer_Name', 'ltable_ABV')</td>\n",
       "      <td>['Double Dragon Imperial Red Ale', '8.20 %']</td>\n",
       "      <td>['Oho-Rojo', '6.10 %']</td>\n",
       "      <td>0@80327 1@1635 0@492</td>\n",
       "      <td>2</td>\n",
       "    </tr>\n",
       "  </tbody>\n",
       "</table>\n",
       "</div>"
      ],
      "text/plain": [
       "     ltable_Beer_Name  ltable_Brew_Factory_Name              ltable_Style  \\\n",
       "23         Mateo Loco  Phillips Brewing Company  American Amber / Red Ale   \n",
       "28  Scuttlebutt Amber  Phillips Brewing Company  American Amber / Red Ale   \n",
       "38              First  Phillips Brewing Company  American Amber / Red Ale   \n",
       "39             Capone  Phillips Brewing Company  American Amber / Red Ale   \n",
       "20         Bushwacker  Phillips Brewing Company  American Amber / Red Ale   \n",
       "9                 Red  Phillips Brewing Company  American Amber / Red Ale   \n",
       "18           Oho-Rojo  Phillips Brewing Company  American Amber / Red Ale   \n",
       "\n",
       "   ltable_ABV                         rtable_Beer_Name  \\\n",
       "23    10.00 %  Scuttlebutt Mateo Loco Imperial Red Ale   \n",
       "28     5.10 %  Scuttlebutt Mateo Loco Imperial Red Ale   \n",
       "38     5.10 %  Scuttlebutt Mateo Loco Imperial Red Ale   \n",
       "39     8.10 %  Scuttlebutt Mateo Loco Imperial Red Ale   \n",
       "20     7.10 %  Scuttlebutt Mateo Loco Imperial Red Ale   \n",
       "9      4.10 %  Scuttlebutt Mateo Loco Imperial Red Ale   \n",
       "18     6.10 %  Scuttlebutt Mateo Loco Imperial Red Ale   \n",
       "\n",
       "     rtable_Brew_Factory_Name         rtable_Style rtable_ABV  \\\n",
       "23  Scuttlebutt Brewing Co. .  American Strong Ale     7.10 %   \n",
       "28  Scuttlebutt Brewing Co. .  American Strong Ale     7.10 %   \n",
       "38  Scuttlebutt Brewing Co. .  American Strong Ale     7.10 %   \n",
       "39  Scuttlebutt Brewing Co. .  American Strong Ale     7.10 %   \n",
       "20  Scuttlebutt Brewing Co. .  American Strong Ale     7.10 %   \n",
       "9   Scuttlebutt Brewing Co. .  American Strong Ale     7.10 %   \n",
       "18  Scuttlebutt Brewing Co. .  American Strong Ale     7.10 %   \n",
       "\n",
       "          nomatch_score         match_score  \\\n",
       "23   0.3467586040496826  0.6532413959503174   \n",
       "28  0.39407283067703247  0.6059271693229675   \n",
       "38   0.3203560709953308  0.6796439290046692   \n",
       "39  0.46519625186920166  0.5348037481307983   \n",
       "20  0.40385961532592773  0.5961403846740723   \n",
       "9    0.3887726664543152  0.6112273335456848   \n",
       "18   0.2519966959953308  0.7480033040046692   \n",
       "\n",
       "                     alteredAttributes  \\\n",
       "23  ('ltable_Beer_Name', 'ltable_ABV')   \n",
       "28  ('ltable_Beer_Name', 'ltable_ABV')   \n",
       "38  ('ltable_Beer_Name', 'ltable_ABV')   \n",
       "39  ('ltable_Beer_Name', 'ltable_ABV')   \n",
       "20  ('ltable_Beer_Name', 'ltable_ABV')   \n",
       "9   ('ltable_Beer_Name', 'ltable_ABV')   \n",
       "18  ('ltable_Beer_Name', 'ltable_ABV')   \n",
       "\n",
       "                                   droppedValues  \\\n",
       "23  ['Double Dragon Imperial Red Ale', '8.20 %']   \n",
       "28  ['Double Dragon Imperial Red Ale', '8.20 %']   \n",
       "38  ['Double Dragon Imperial Red Ale', '8.20 %']   \n",
       "39  ['Double Dragon Imperial Red Ale', '8.20 %']   \n",
       "20  ['Double Dragon Imperial Red Ale', '8.20 %']   \n",
       "9   ['Double Dragon Imperial Red Ale', '8.20 %']   \n",
       "18  ['Double Dragon Imperial Red Ale', '8.20 %']   \n",
       "\n",
       "                       copiedValues              triangle attr_count  \n",
       "23        ['Mateo Loco', '10.00 %']  0@64023 1@1635 0@492          2  \n",
       "28  ['Scuttlebutt Amber', '5.10 %']    0@214 1@1635 0@492          2  \n",
       "38              ['First', '5.10 %']  0@78172 1@1635 0@492          2  \n",
       "39             ['Capone', '8.10 %']  0@79567 1@1635 0@492          2  \n",
       "20         ['Bushwacker', '7.10 %']    0@987 1@1635 0@492          2  \n",
       "9                 ['Red', '4.10 %']  0@16303 1@1635 0@492          2  \n",
       "18           ['Oho-Rojo', '6.10 %']  0@80327 1@1635 0@492          2  "
      ]
     },
     "execution_count": 18,
     "metadata": {},
     "output_type": "execute_result"
    }
   ],
   "source": [
    "counterfactual_examples"
   ]
  },
  {
   "cell_type": "code",
   "execution_count": 19,
   "metadata": {
    "colab": {
     "base_uri": "https://localhost:8080/"
    },
    "id": "fUQe2VcydwL_",
    "outputId": "e52ccd89-a7fa-49f3-fb12-c20dd72621bd"
   },
   "outputs": [],
   "source": [
    "pss_df = pd.DataFrame(pss).T"
   ]
  },
  {
   "cell_type": "code",
   "execution_count": 20,
   "metadata": {},
   "outputs": [],
   "source": [
    "pss_df.columns = ['left_Beer', 'left_Factory', 'left_Style',\n",
    "       'left_ABV', 'right_Beer', 'right_Factory',\n",
    "       'right_Style', 'right_ABV',\n",
    "       'left_Beer, left_Factory',\n",
    "       'left_Beer, left_Style', 'left_Beer, left_ABV',\n",
    "       'left_Factory, left_Style',\n",
    "       'left_Factory, left_ABV', 'left_Style, left_ABV',\n",
    "       'right_Beer, right_Factory',\n",
    "       'right_Beer, right_Style', 'right_Beer, right_ABV',\n",
    "       'right_Factory, right_Style',\n",
    "       'right_Factory, right_ABV', 'right_Style, right_ABV',\n",
    "       'left_Beer, left_Factory, left_Style',\n",
    "       'left_Beer, left_Factory, left_ABV',\n",
    "       'left_Beer, left_Style, left_ABV',\n",
    "       'left_Factory_Name, left_Style, left_ABV',\n",
    "       'right_Beer, right_Factory, right_Style',\n",
    "       'right_Beer, right_Factory, right_ABV',\n",
    "       'right_Beer, right_Style, right_ABV',\n",
    "       'right_Factory, right_Style, right_ABV']"
   ]
  },
  {
   "cell_type": "code",
   "execution_count": 21,
   "metadata": {},
   "outputs": [
    {
     "data": {
      "text/html": [
       "<style  type=\"text/css\" >\n",
       "#T_162e553a_a3a4_11ec_b7f1_24418c396bddrow0_col0,#T_162e553a_a3a4_11ec_b7f1_24418c396bddrow0_col2{\n",
       "            background-color:  #cacaff;\n",
       "            color:  #000000;\n",
       "        }#T_162e553a_a3a4_11ec_b7f1_24418c396bddrow0_col1,#T_162e553a_a3a4_11ec_b7f1_24418c396bddrow0_col7,#T_162e553a_a3a4_11ec_b7f1_24418c396bddrow0_col9,#T_162e553a_a3a4_11ec_b7f1_24418c396bddrow0_col11,#T_162e553a_a3a4_11ec_b7f1_24418c396bddrow0_col12{\n",
       "            background-color:  #d8d8ff;\n",
       "            color:  #000000;\n",
       "        }#T_162e553a_a3a4_11ec_b7f1_24418c396bddrow0_col3{\n",
       "            background-color:  #babaff;\n",
       "            color:  #000000;\n",
       "        }#T_162e553a_a3a4_11ec_b7f1_24418c396bddrow0_col4{\n",
       "            background-color:  #6f6fff;\n",
       "            color:  #000000;\n",
       "        }#T_162e553a_a3a4_11ec_b7f1_24418c396bddrow0_col5{\n",
       "            background-color:  #7e7eff;\n",
       "            color:  #000000;\n",
       "        }#T_162e553a_a3a4_11ec_b7f1_24418c396bddrow0_col6{\n",
       "            background-color:  #6060ff;\n",
       "            color:  #000000;\n",
       "        }#T_162e553a_a3a4_11ec_b7f1_24418c396bddrow0_col8,#T_162e553a_a3a4_11ec_b7f1_24418c396bddrow0_col10,#T_162e553a_a3a4_11ec_b7f1_24418c396bddrow0_col13{\n",
       "            background-color:  #5151ff;\n",
       "            color:  #f1f1f1;\n",
       "        }</style><table id=\"T_162e553a_a3a4_11ec_b7f1_24418c396bdd\" ><thead>    <tr>        <th class=\"blank level0\" ></th>        <th class=\"col_heading level0 col0\" >left_Beer</th>        <th class=\"col_heading level0 col1\" >left_Beer, left_ABV</th>        <th class=\"col_heading level0 col2\" >left_Beer, left_Factory</th>        <th class=\"col_heading level0 col3\" >left_Beer, left_Factory, left_ABV</th>        <th class=\"col_heading level0 col4\" >left_Beer, left_Factory, left_Style</th>        <th class=\"col_heading level0 col5\" >left_Beer, left_Style</th>        <th class=\"col_heading level0 col6\" >left_Beer, left_Style, left_ABV</th>        <th class=\"col_heading level0 col7\" >right_Beer</th>        <th class=\"col_heading level0 col8\" >right_Beer, right_ABV</th>        <th class=\"col_heading level0 col9\" >right_Beer, right_Factory</th>        <th class=\"col_heading level0 col10\" >right_Beer, right_Factory, right_ABV</th>        <th class=\"col_heading level0 col11\" >right_Beer, right_Factory, right_Style</th>        <th class=\"col_heading level0 col12\" >right_Beer, right_Style</th>        <th class=\"col_heading level0 col13\" >right_Beer, right_Style, right_ABV</th>    </tr></thead><tbody>\n",
       "                <tr>\n",
       "                        <th id=\"T_162e553a_a3a4_11ec_b7f1_24418c396bddlevel0_row0\" class=\"row_heading level0 row0\" >0</th>\n",
       "                        <td id=\"T_162e553a_a3a4_11ec_b7f1_24418c396bddrow0_col0\" class=\"data row0 col0\" >0.166667</td>\n",
       "                        <td id=\"T_162e553a_a3a4_11ec_b7f1_24418c396bddrow0_col1\" class=\"data row0 col1\" >0.125000</td>\n",
       "                        <td id=\"T_162e553a_a3a4_11ec_b7f1_24418c396bddrow0_col2\" class=\"data row0 col2\" >0.166667</td>\n",
       "                        <td id=\"T_162e553a_a3a4_11ec_b7f1_24418c396bddrow0_col3\" class=\"data row0 col3\" >0.208333</td>\n",
       "                        <td id=\"T_162e553a_a3a4_11ec_b7f1_24418c396bddrow0_col4\" class=\"data row0 col4\" >0.416667</td>\n",
       "                        <td id=\"T_162e553a_a3a4_11ec_b7f1_24418c396bddrow0_col5\" class=\"data row0 col5\" >0.375000</td>\n",
       "                        <td id=\"T_162e553a_a3a4_11ec_b7f1_24418c396bddrow0_col6\" class=\"data row0 col6\" >0.458333</td>\n",
       "                        <td id=\"T_162e553a_a3a4_11ec_b7f1_24418c396bddrow0_col7\" class=\"data row0 col7\" >0.125000</td>\n",
       "                        <td id=\"T_162e553a_a3a4_11ec_b7f1_24418c396bddrow0_col8\" class=\"data row0 col8\" >0.500000</td>\n",
       "                        <td id=\"T_162e553a_a3a4_11ec_b7f1_24418c396bddrow0_col9\" class=\"data row0 col9\" >0.125000</td>\n",
       "                        <td id=\"T_162e553a_a3a4_11ec_b7f1_24418c396bddrow0_col10\" class=\"data row0 col10\" >0.500000</td>\n",
       "                        <td id=\"T_162e553a_a3a4_11ec_b7f1_24418c396bddrow0_col11\" class=\"data row0 col11\" >0.125000</td>\n",
       "                        <td id=\"T_162e553a_a3a4_11ec_b7f1_24418c396bddrow0_col12\" class=\"data row0 col12\" >0.125000</td>\n",
       "                        <td id=\"T_162e553a_a3a4_11ec_b7f1_24418c396bddrow0_col13\" class=\"data row0 col13\" >0.500000</td>\n",
       "            </tr>\n",
       "    </tbody></table>"
      ],
      "text/plain": [
       "<pandas.io.formats.style.Styler at 0x7f3884cba048>"
      ]
     },
     "execution_count": 21,
     "metadata": {},
     "output_type": "execute_result"
    }
   ],
   "source": [
    "\n",
    "pss_sorted = pss_df.T[pss_df.T > 0].dropna().T\n",
    "pss_sorted.reindex(sorted(pss_sorted.columns), axis=1).style.background_gradient(cmap=cm, axis=None, low=0.1, high=0.6)"
   ]
  },
  {
   "cell_type": "code",
   "execution_count": 31,
   "metadata": {},
   "outputs": [
    {
     "data": {
      "text/html": [
       "<div>\n",
       "<style scoped>\n",
       "    .dataframe tbody tr th:only-of-type {\n",
       "        vertical-align: middle;\n",
       "    }\n",
       "\n",
       "    .dataframe tbody tr th {\n",
       "        vertical-align: top;\n",
       "    }\n",
       "\n",
       "    .dataframe thead th {\n",
       "        text-align: right;\n",
       "    }\n",
       "</style>\n",
       "<table border=\"1\" class=\"dataframe\">\n",
       "  <thead>\n",
       "    <tr style=\"text-align: right;\">\n",
       "      <th></th>\n",
       "      <th>id</th>\n",
       "      <th>Beer_Name</th>\n",
       "      <th>Brew_Factory_Name</th>\n",
       "      <th>Style</th>\n",
       "      <th>ABV</th>\n",
       "      <th>type</th>\n",
       "    </tr>\n",
       "  </thead>\n",
       "  <tbody>\n",
       "    <tr>\n",
       "      <th>1635</th>\n",
       "      <td>1635</td>\n",
       "      <td>Scuttlebutt Mateo Loco Imperial Red Ale</td>\n",
       "      <td>Scuttlebutt Brewing Co. .</td>\n",
       "      <td>American Strong Ale</td>\n",
       "      <td>7.10 %</td>\n",
       "      <td>pivot</td>\n",
       "    </tr>\n",
       "    <tr>\n",
       "      <th>492</th>\n",
       "      <td>492</td>\n",
       "      <td>Double Dragon Imperial Red Ale</td>\n",
       "      <td>Phillips Brewing Company</td>\n",
       "      <td>American Amber / Red Ale</td>\n",
       "      <td>8.20 %</td>\n",
       "      <td>free</td>\n",
       "    </tr>\n",
       "    <tr>\n",
       "      <th>3055</th>\n",
       "      <td>64026</td>\n",
       "      <td>Mateo Loco</td>\n",
       "      <td>Scuttlebutt Brewing Company</td>\n",
       "      <td>American Amber</td>\n",
       "      <td>10.00 %</td>\n",
       "      <td>support</td>\n",
       "    </tr>\n",
       "  </tbody>\n",
       "</table>\n",
       "</div>"
      ],
      "text/plain": [
       "         id                                Beer_Name  \\\n",
       "1635   1635  Scuttlebutt Mateo Loco Imperial Red Ale   \n",
       "492     492           Double Dragon Imperial Red Ale   \n",
       "3055  64026                               Mateo Loco   \n",
       "\n",
       "                Brew_Factory_Name                     Style      ABV     type  \n",
       "1635    Scuttlebutt Brewing Co. .       American Strong Ale   7.10 %    pivot  \n",
       "492      Phillips Brewing Company  American Amber / Red Ale   8.20 %     free  \n",
       "3055  Scuttlebutt Brewing Company            American Amber  10.00 %  support  "
      ]
     },
     "execution_count": 31,
     "metadata": {},
     "output_type": "execute_result"
    }
   ],
   "source": [
    "lattice = lattices[7]\n",
    "lattice.triangle"
   ]
  },
  {
   "cell_type": "code",
   "execution_count": 32,
   "metadata": {},
   "outputs": [
    {
     "data": {
      "text/html": [
       "<div>\n",
       "<style scoped>\n",
       "    .dataframe tbody tr th:only-of-type {\n",
       "        vertical-align: middle;\n",
       "    }\n",
       "\n",
       "    .dataframe tbody tr th {\n",
       "        vertical-align: top;\n",
       "    }\n",
       "\n",
       "    .dataframe thead th {\n",
       "        text-align: right;\n",
       "    }\n",
       "</style>\n",
       "<table border=\"1\" class=\"dataframe\">\n",
       "  <thead>\n",
       "    <tr style=\"text-align: right;\">\n",
       "      <th></th>\n",
       "      <th>id</th>\n",
       "      <th>Beer</th>\n",
       "      <th>Factory</th>\n",
       "      <th>Style</th>\n",
       "      <th>ABV</th>\n",
       "      <th>type</th>\n",
       "    </tr>\n",
       "  </thead>\n",
       "  <tbody>\n",
       "    <tr>\n",
       "      <th>1635</th>\n",
       "      <td>1635</td>\n",
       "      <td>Scuttlebutt Mateo Loco Imperial Red Ale</td>\n",
       "      <td>Scuttlebutt Brewing Co. .</td>\n",
       "      <td>American Strong Ale</td>\n",
       "      <td>7.10 %</td>\n",
       "      <td>pivot</td>\n",
       "    </tr>\n",
       "    <tr>\n",
       "      <th>492</th>\n",
       "      <td>492</td>\n",
       "      <td>Mateo Loco</td>\n",
       "      <td>Phillips Brewing Company</td>\n",
       "      <td>American Amber / Red Ale</td>\n",
       "      <td>8.20 %</td>\n",
       "      <td>free</td>\n",
       "    </tr>\n",
       "    <tr>\n",
       "      <th>3055</th>\n",
       "      <td>64026</td>\n",
       "      <td>Mateo Loco</td>\n",
       "      <td>Scuttlebutt Brewing Company</td>\n",
       "      <td>American Amber</td>\n",
       "      <td>10.00 %</td>\n",
       "      <td>support</td>\n",
       "    </tr>\n",
       "  </tbody>\n",
       "</table>\n",
       "</div>"
      ],
      "text/plain": [
       "         id                                     Beer  \\\n",
       "1635   1635  Scuttlebutt Mateo Loco Imperial Red Ale   \n",
       "492     492                               Mateo Loco   \n",
       "3055  64026                               Mateo Loco   \n",
       "\n",
       "                          Factory                     Style      ABV     type  \n",
       "1635    Scuttlebutt Brewing Co. .       American Strong Ale   7.10 %    pivot  \n",
       "492      Phillips Brewing Company  American Amber / Red Ale   8.20 %     free  \n",
       "3055  Scuttlebutt Brewing Company            American Amber  10.00 %  support  "
      ]
     },
     "execution_count": 32,
     "metadata": {},
     "output_type": "execute_result"
    }
   ],
   "source": [
    "ldf = lattice.triangle.copy()\n",
    "ldf.columns=['id','Beer','Factory','Style','ABV','type']\n",
    "ldf.at[492,'Beer'] = 'Mateo Loco'\n",
    "ldf"
   ]
  },
  {
   "cell_type": "code",
   "execution_count": null,
   "metadata": {},
   "outputs": [],
   "source": [
    "def show_lattice(lattice, depth=-1):\n",
    "    dot_data = lattice.hasse(depth=depth) \n",
    "    graph = graphviz.Source(dot_data)\n",
    "    pydot_graph = pydotplus.graph_from_dot_data(dot_data)\n",
    "    return Image(pydot_graph.create_png())"
   ]
  },
  {
   "cell_type": "code",
   "execution_count": null,
   "metadata": {},
   "outputs": [],
   "source": [
    "show_lattice(lattice)"
   ]
  },
  {
   "cell_type": "code",
   "execution_count": null,
   "metadata": {},
   "outputs": [],
   "source": [
    "lattice.hasse()"
   ]
  }
 ],
 "metadata": {
  "colab": {
   "name": "demo1_dm_beers.ipynb",
   "provenance": []
  },
  "kernelspec": {
   "display_name": "Python 3",
   "language": "python",
   "name": "python3"
  },
  "language_info": {
   "codemirror_mode": {
    "name": "ipython",
    "version": 3
   },
   "file_extension": ".py",
   "mimetype": "text/x-python",
   "name": "python",
   "nbconvert_exporter": "python",
   "pygments_lexer": "ipython3",
   "version": "3.6.8"
  }
 },
 "nbformat": 4,
 "nbformat_minor": 4
}
